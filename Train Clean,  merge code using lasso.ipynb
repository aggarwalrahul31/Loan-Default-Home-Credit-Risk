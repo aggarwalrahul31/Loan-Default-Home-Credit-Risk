{
 "cells": [
  {
   "cell_type": "code",
   "execution_count": 1,
   "metadata": {
    "ExecuteTime": {
     "end_time": "2020-01-24T07:20:48.398712Z",
     "start_time": "2020-01-24T07:20:39.307620Z"
    }
   },
   "outputs": [],
   "source": [
    "import numpy as np # linear algebra\n",
    "import pandas as pd # data processing, CSV file I/O (e.g. pd.read_csv)\n",
    "# import for plotting \n",
    "import matplotlib.pyplot as plt\n",
    "import seaborn as sns\n",
    "\n",
    "import warnings\n",
    "warnings.filterwarnings('ignore')\n",
    "\n",
    "# Input data files are available in the \"../input/\" directory.\n",
    "# For example, running this (by clicking run or pressing Shift+Enter) will list the files in the input directory\n",
    "\n",
    "import os"
   ]
  },
  {
   "cell_type": "code",
   "execution_count": 2,
   "metadata": {
    "ExecuteTime": {
     "end_time": "2020-01-24T07:20:50.316727Z",
     "start_time": "2020-01-24T07:20:48.439543Z"
    }
   },
   "outputs": [],
   "source": [
    "from sklearn.linear_model import LinearRegression"
   ]
  },
  {
   "cell_type": "code",
   "execution_count": 3,
   "metadata": {
    "ExecuteTime": {
     "end_time": "2020-01-24T07:20:57.283370Z",
     "start_time": "2020-01-24T07:20:50.332600Z"
    }
   },
   "outputs": [],
   "source": [
    "df = pd.read_csv('application_train.csv')"
   ]
  },
  {
   "cell_type": "code",
   "execution_count": 4,
   "metadata": {
    "ExecuteTime": {
     "end_time": "2020-01-23T17:44:02.767850Z",
     "start_time": "2020-01-23T17:44:02.493647Z"
    }
   },
   "outputs": [
    {
     "data": {
      "text/plain": [
       "(67,)"
      ]
     },
     "execution_count": 4,
     "metadata": {},
     "output_type": "execute_result"
    }
   ],
   "source": [
    "df.columns[df.isnull().any()].shape"
   ]
  },
  {
   "cell_type": "code",
   "execution_count": null,
   "metadata": {},
   "outputs": [],
   "source": []
  },
  {
   "cell_type": "code",
   "execution_count": 5,
   "metadata": {
    "ExecuteTime": {
     "end_time": "2020-01-23T12:59:02.216499Z",
     "start_time": "2020-01-23T12:59:01.904072Z"
    }
   },
   "outputs": [
    {
     "data": {
      "text/plain": [
       "SK_ID_CURR                        0\n",
       "TARGET                            0\n",
       "NAME_CONTRACT_TYPE                0\n",
       "CODE_GENDER                       0\n",
       "FLAG_OWN_CAR                      0\n",
       "                              ...  \n",
       "AMT_REQ_CREDIT_BUREAU_DAY     41519\n",
       "AMT_REQ_CREDIT_BUREAU_WEEK    41519\n",
       "AMT_REQ_CREDIT_BUREAU_MON     41519\n",
       "AMT_REQ_CREDIT_BUREAU_QRT     41519\n",
       "AMT_REQ_CREDIT_BUREAU_YEAR    41519\n",
       "Length: 122, dtype: int64"
      ]
     },
     "execution_count": 5,
     "metadata": {},
     "output_type": "execute_result"
    }
   ],
   "source": [
    "df.isna().sum()"
   ]
  },
  {
   "cell_type": "code",
   "execution_count": 188,
   "metadata": {
    "ExecuteTime": {
     "end_time": "2020-01-22T15:10:17.686120Z",
     "start_time": "2020-01-22T15:10:17.248765Z"
    }
   },
   "outputs": [],
   "source": [
    "count_nan = (len(df) - df.count())*100/len(df)"
   ]
  },
  {
   "cell_type": "code",
   "execution_count": 190,
   "metadata": {
    "ExecuteTime": {
     "end_time": "2020-01-22T15:10:53.389437Z",
     "start_time": "2020-01-22T15:10:52.420460Z"
    }
   },
   "outputs": [],
   "source": [
    "count_nan.to_excel(\"null2.xlsx\")"
   ]
  },
  {
   "cell_type": "code",
   "execution_count": 189,
   "metadata": {
    "ExecuteTime": {
     "end_time": "2020-01-22T15:10:23.035287Z",
     "start_time": "2020-01-22T15:10:23.019665Z"
    }
   },
   "outputs": [
    {
     "data": {
      "text/plain": [
       "SK_ID_CURR                     0.000000\n",
       "TARGET                         0.000000\n",
       "NAME_CONTRACT_TYPE             0.000000\n",
       "CODE_GENDER                    0.000000\n",
       "FLAG_OWN_CAR                   0.000000\n",
       "                                ...    \n",
       "AMT_REQ_CREDIT_BUREAU_DAY     13.501631\n",
       "AMT_REQ_CREDIT_BUREAU_WEEK    13.501631\n",
       "AMT_REQ_CREDIT_BUREAU_MON     13.501631\n",
       "AMT_REQ_CREDIT_BUREAU_QRT     13.501631\n",
       "AMT_REQ_CREDIT_BUREAU_YEAR    13.501631\n",
       "Length: 122, dtype: float64"
      ]
     },
     "execution_count": 189,
     "metadata": {},
     "output_type": "execute_result"
    }
   ],
   "source": [
    "count_nan"
   ]
  },
  {
   "cell_type": "code",
   "execution_count": null,
   "metadata": {},
   "outputs": [],
   "source": [
    "var=count_nan.where()"
   ]
  },
  {
   "cell_type": "code",
   "execution_count": null,
   "metadata": {},
   "outputs": [],
   "source": []
  },
  {
   "cell_type": "code",
   "execution_count": 5,
   "metadata": {
    "ExecuteTime": {
     "end_time": "2020-01-23T17:44:03.482161Z",
     "start_time": "2020-01-23T17:44:02.866592Z"
    }
   },
   "outputs": [
    {
     "data": {
      "text/html": [
       "<div>\n",
       "<style scoped>\n",
       "    .dataframe tbody tr th:only-of-type {\n",
       "        vertical-align: middle;\n",
       "    }\n",
       "\n",
       "    .dataframe tbody tr th {\n",
       "        vertical-align: top;\n",
       "    }\n",
       "\n",
       "    .dataframe thead th {\n",
       "        text-align: right;\n",
       "    }\n",
       "</style>\n",
       "<table border=\"1\" class=\"dataframe\">\n",
       "  <thead>\n",
       "    <tr style=\"text-align: right;\">\n",
       "      <th></th>\n",
       "      <th>AMT_GOODS_PRICE</th>\n",
       "      <th>AMT_ANNUITY</th>\n",
       "      <th>CNT_FAM_MEMBERS</th>\n",
       "      <th>EXT_SOURCE_2</th>\n",
       "      <th>EXT_SOURCE_3</th>\n",
       "    </tr>\n",
       "  </thead>\n",
       "  <tbody>\n",
       "    <tr>\n",
       "      <td>count</td>\n",
       "      <td>3.072330e+05</td>\n",
       "      <td>307499.000000</td>\n",
       "      <td>307509.000000</td>\n",
       "      <td>3.068510e+05</td>\n",
       "      <td>246546.000000</td>\n",
       "    </tr>\n",
       "    <tr>\n",
       "      <td>mean</td>\n",
       "      <td>5.383962e+05</td>\n",
       "      <td>27108.573909</td>\n",
       "      <td>2.152665</td>\n",
       "      <td>5.143927e-01</td>\n",
       "      <td>0.510853</td>\n",
       "    </tr>\n",
       "    <tr>\n",
       "      <td>std</td>\n",
       "      <td>3.694465e+05</td>\n",
       "      <td>14493.737315</td>\n",
       "      <td>0.910682</td>\n",
       "      <td>1.910602e-01</td>\n",
       "      <td>0.194844</td>\n",
       "    </tr>\n",
       "    <tr>\n",
       "      <td>min</td>\n",
       "      <td>4.050000e+04</td>\n",
       "      <td>1615.500000</td>\n",
       "      <td>1.000000</td>\n",
       "      <td>8.173617e-08</td>\n",
       "      <td>0.000527</td>\n",
       "    </tr>\n",
       "    <tr>\n",
       "      <td>25%</td>\n",
       "      <td>2.385000e+05</td>\n",
       "      <td>16524.000000</td>\n",
       "      <td>2.000000</td>\n",
       "      <td>3.924574e-01</td>\n",
       "      <td>0.370650</td>\n",
       "    </tr>\n",
       "    <tr>\n",
       "      <td>50%</td>\n",
       "      <td>4.500000e+05</td>\n",
       "      <td>24903.000000</td>\n",
       "      <td>2.000000</td>\n",
       "      <td>5.659614e-01</td>\n",
       "      <td>0.535276</td>\n",
       "    </tr>\n",
       "    <tr>\n",
       "      <td>75%</td>\n",
       "      <td>6.795000e+05</td>\n",
       "      <td>34596.000000</td>\n",
       "      <td>3.000000</td>\n",
       "      <td>6.636171e-01</td>\n",
       "      <td>0.669057</td>\n",
       "    </tr>\n",
       "    <tr>\n",
       "      <td>max</td>\n",
       "      <td>4.050000e+06</td>\n",
       "      <td>258025.500000</td>\n",
       "      <td>20.000000</td>\n",
       "      <td>8.549997e-01</td>\n",
       "      <td>0.896010</td>\n",
       "    </tr>\n",
       "  </tbody>\n",
       "</table>\n",
       "</div>"
      ],
      "text/plain": [
       "       AMT_GOODS_PRICE    AMT_ANNUITY  CNT_FAM_MEMBERS  EXT_SOURCE_2  \\\n",
       "count     3.072330e+05  307499.000000    307509.000000  3.068510e+05   \n",
       "mean      5.383962e+05   27108.573909         2.152665  5.143927e-01   \n",
       "std       3.694465e+05   14493.737315         0.910682  1.910602e-01   \n",
       "min       4.050000e+04    1615.500000         1.000000  8.173617e-08   \n",
       "25%       2.385000e+05   16524.000000         2.000000  3.924574e-01   \n",
       "50%       4.500000e+05   24903.000000         2.000000  5.659614e-01   \n",
       "75%       6.795000e+05   34596.000000         3.000000  6.636171e-01   \n",
       "max       4.050000e+06  258025.500000        20.000000  8.549997e-01   \n",
       "\n",
       "        EXT_SOURCE_3  \n",
       "count  246546.000000  \n",
       "mean        0.510853  \n",
       "std         0.194844  \n",
       "min         0.000527  \n",
       "25%         0.370650  \n",
       "50%         0.535276  \n",
       "75%         0.669057  \n",
       "max         0.896010  "
      ]
     },
     "execution_count": 5,
     "metadata": {},
     "output_type": "execute_result"
    }
   ],
   "source": [
    "df.loc[:,[\"AMT_GOODS_PRICE\",\"AMT_ANNUITY\",\"NAME_TYPE_SUITE\",\"CNT_FAM_MEMBERS\",\"EXT_SOURCE_2\",\"EXT_SOURCE_3\"]].describe()"
   ]
  },
  {
   "cell_type": "code",
   "execution_count": 6,
   "metadata": {
    "ExecuteTime": {
     "end_time": "2020-01-23T17:44:03.590870Z",
     "start_time": "2020-01-23T17:44:03.575910Z"
    }
   },
   "outputs": [],
   "source": [
    "df1=df.loc[:,[\"AMT_GOODS_PRICE\",\"AMT_ANNUITY\",\"NAME_TYPE_SUITE\",\"CNT_FAM_MEMBERS\",\"EXT_SOURCE_2\",\"EXT_SOURCE_3\"]]"
   ]
  },
  {
   "cell_type": "code",
   "execution_count": 7,
   "metadata": {
    "ExecuteTime": {
     "end_time": "2020-01-23T17:44:03.736480Z",
     "start_time": "2020-01-23T17:44:03.698583Z"
    }
   },
   "outputs": [
    {
     "data": {
      "text/plain": [
       "AMT_GOODS_PRICE      278\n",
       "AMT_ANNUITY           12\n",
       "NAME_TYPE_SUITE     1292\n",
       "CNT_FAM_MEMBERS        2\n",
       "EXT_SOURCE_2         660\n",
       "EXT_SOURCE_3       60965\n",
       "dtype: int64"
      ]
     },
     "execution_count": 7,
     "metadata": {},
     "output_type": "execute_result"
    }
   ],
   "source": [
    "df1.isna().sum()"
   ]
  },
  {
   "cell_type": "code",
   "execution_count": 8,
   "metadata": {
    "ExecuteTime": {
     "end_time": "2020-01-23T17:44:03.877104Z",
     "start_time": "2020-01-23T17:44:03.841201Z"
    }
   },
   "outputs": [],
   "source": [
    "df.CNT_FAM_MEMBERS[(df.CNT_FAM_MEMBERS.isnull()) & (df.CNT_CHILDREN==0)] = df.CNT_FAM_MEMBERS[(df.CNT_FAM_MEMBERS.notnull())&(df.CNT_CHILDREN==0)].median()"
   ]
  },
  {
   "cell_type": "code",
   "execution_count": 9,
   "metadata": {
    "ExecuteTime": {
     "end_time": "2020-01-23T17:44:03.993794Z",
     "start_time": "2020-01-23T17:44:03.986812Z"
    }
   },
   "outputs": [
    {
     "data": {
      "text/plain": [
       "0"
      ]
     },
     "execution_count": 9,
     "metadata": {},
     "output_type": "execute_result"
    }
   ],
   "source": [
    "df.CNT_FAM_MEMBERS.isnull().sum()"
   ]
  },
  {
   "cell_type": "code",
   "execution_count": 10,
   "metadata": {
    "ExecuteTime": {
     "end_time": "2020-01-23T17:44:04.295131Z",
     "start_time": "2020-01-23T17:44:04.278143Z"
    }
   },
   "outputs": [],
   "source": [
    "df.AMT_ANNUITY[(df.AMT_ANNUITY.isnull())]= df.AMT_ANNUITY[(df.AMT_ANNUITY.notnull())].median()"
   ]
  },
  {
   "cell_type": "code",
   "execution_count": 11,
   "metadata": {
    "ExecuteTime": {
     "end_time": "2020-01-23T17:44:05.244362Z",
     "start_time": "2020-01-23T17:44:05.235425Z"
    }
   },
   "outputs": [
    {
     "data": {
      "text/plain": [
       "0"
      ]
     },
     "execution_count": 11,
     "metadata": {},
     "output_type": "execute_result"
    }
   ],
   "source": [
    "df.AMT_ANNUITY.isnull().sum()"
   ]
  },
  {
   "cell_type": "code",
   "execution_count": 12,
   "metadata": {
    "ExecuteTime": {
     "end_time": "2020-01-23T17:44:05.850949Z",
     "start_time": "2020-01-23T17:44:05.825026Z"
    }
   },
   "outputs": [],
   "source": [
    "df.AMT_ANNUITY[(df.AMT_ANNUITY.isnull())]= df.AMT_ANNUITY[(df.AMT_ANNUITY.notnull())].median()"
   ]
  },
  {
   "cell_type": "code",
   "execution_count": 13,
   "metadata": {
    "ExecuteTime": {
     "end_time": "2020-01-23T17:44:06.486173Z",
     "start_time": "2020-01-23T17:44:06.457249Z"
    }
   },
   "outputs": [],
   "source": [
    "df.EXT_SOURCE_2[(df.EXT_SOURCE_2.isnull())]= df.EXT_SOURCE_2[(df.EXT_SOURCE_2.notnull())].median()"
   ]
  },
  {
   "cell_type": "code",
   "execution_count": 14,
   "metadata": {
    "ExecuteTime": {
     "end_time": "2020-01-23T17:44:07.327949Z",
     "start_time": "2020-01-23T17:44:07.273059Z"
    }
   },
   "outputs": [
    {
     "data": {
      "text/html": [
       "<div>\n",
       "<style scoped>\n",
       "    .dataframe tbody tr th:only-of-type {\n",
       "        vertical-align: middle;\n",
       "    }\n",
       "\n",
       "    .dataframe tbody tr th {\n",
       "        vertical-align: top;\n",
       "    }\n",
       "\n",
       "    .dataframe thead th {\n",
       "        text-align: right;\n",
       "    }\n",
       "</style>\n",
       "<table border=\"1\" class=\"dataframe\">\n",
       "  <thead>\n",
       "    <tr style=\"text-align: right;\">\n",
       "      <th></th>\n",
       "      <th>AMT_GOODS_PRICE</th>\n",
       "      <th>AMT_ANNUITY</th>\n",
       "      <th>CNT_FAM_MEMBERS</th>\n",
       "      <th>EXT_SOURCE_2</th>\n",
       "      <th>EXT_SOURCE_3</th>\n",
       "    </tr>\n",
       "  </thead>\n",
       "  <tbody>\n",
       "    <tr>\n",
       "      <td>AMT_GOODS_PRICE</td>\n",
       "      <td>1.000000</td>\n",
       "      <td>0.775098</td>\n",
       "      <td>0.061185</td>\n",
       "      <td>0.139055</td>\n",
       "      <td>0.047717</td>\n",
       "    </tr>\n",
       "    <tr>\n",
       "      <td>AMT_ANNUITY</td>\n",
       "      <td>0.775098</td>\n",
       "      <td>1.000000</td>\n",
       "      <td>0.075541</td>\n",
       "      <td>0.125509</td>\n",
       "      <td>0.030755</td>\n",
       "    </tr>\n",
       "    <tr>\n",
       "      <td>CNT_FAM_MEMBERS</td>\n",
       "      <td>0.061185</td>\n",
       "      <td>0.075541</td>\n",
       "      <td>1.000000</td>\n",
       "      <td>-0.001832</td>\n",
       "      <td>-0.027964</td>\n",
       "    </tr>\n",
       "    <tr>\n",
       "      <td>EXT_SOURCE_2</td>\n",
       "      <td>0.139055</td>\n",
       "      <td>0.125509</td>\n",
       "      <td>-0.001832</td>\n",
       "      <td>1.000000</td>\n",
       "      <td>0.109174</td>\n",
       "    </tr>\n",
       "    <tr>\n",
       "      <td>EXT_SOURCE_3</td>\n",
       "      <td>0.047717</td>\n",
       "      <td>0.030755</td>\n",
       "      <td>-0.027964</td>\n",
       "      <td>0.109174</td>\n",
       "      <td>1.000000</td>\n",
       "    </tr>\n",
       "  </tbody>\n",
       "</table>\n",
       "</div>"
      ],
      "text/plain": [
       "                 AMT_GOODS_PRICE  AMT_ANNUITY  CNT_FAM_MEMBERS  EXT_SOURCE_2  \\\n",
       "AMT_GOODS_PRICE         1.000000     0.775098         0.061185      0.139055   \n",
       "AMT_ANNUITY             0.775098     1.000000         0.075541      0.125509   \n",
       "CNT_FAM_MEMBERS         0.061185     0.075541         1.000000     -0.001832   \n",
       "EXT_SOURCE_2            0.139055     0.125509        -0.001832      1.000000   \n",
       "EXT_SOURCE_3            0.047717     0.030755        -0.027964      0.109174   \n",
       "\n",
       "                 EXT_SOURCE_3  \n",
       "AMT_GOODS_PRICE      0.047717  \n",
       "AMT_ANNUITY          0.030755  \n",
       "CNT_FAM_MEMBERS     -0.027964  \n",
       "EXT_SOURCE_2         0.109174  \n",
       "EXT_SOURCE_3         1.000000  "
      ]
     },
     "execution_count": 14,
     "metadata": {},
     "output_type": "execute_result"
    }
   ],
   "source": [
    "df.loc[:,[\"AMT_GOODS_PRICE\",\"AMT_ANNUITY\",\"CNT_FAM_MEMBERS\",\"EXT_SOURCE_2\",\"EXT_SOURCE_3\"]].corr()"
   ]
  },
  {
   "cell_type": "code",
   "execution_count": null,
   "metadata": {},
   "outputs": [],
   "source": []
  },
  {
   "cell_type": "code",
   "execution_count": 15,
   "metadata": {
    "ExecuteTime": {
     "end_time": "2020-01-23T17:44:08.931626Z",
     "start_time": "2020-01-23T17:44:08.915670Z"
    }
   },
   "outputs": [],
   "source": [
    "df2=df.loc[:,[\"AMT_GOODS_PRICE\",\"AMT_ANNUITY\",\"CNT_FAM_MEMBERS\",\"EXT_SOURCE_2\",\"EXT_SOURCE_3\"]]"
   ]
  },
  {
   "cell_type": "code",
   "execution_count": 16,
   "metadata": {
    "ExecuteTime": {
     "end_time": "2020-01-23T17:44:10.067822Z",
     "start_time": "2020-01-23T17:44:09.971081Z"
    }
   },
   "outputs": [
    {
     "data": {
      "text/plain": [
       "0.6062330407229249"
      ]
     },
     "execution_count": 16,
     "metadata": {},
     "output_type": "execute_result"
    }
   ],
   "source": [
    "X=df2.loc[((df2.AMT_GOODS_PRICE.notnull())&(df2.CNT_FAM_MEMBERS.notnull())&(df2.EXT_SOURCE_2.notnull())\n",
    "          & (df2.EXT_SOURCE_3.notnull()) & (df2.AMT_ANNUITY.notnull()))]\n",
    "\n",
    "model=LinearRegression().fit(X.loc[:,[\"AMT_ANNUITY\",\"CNT_FAM_MEMBERS\",\"EXT_SOURCE_2\",\"EXT_SOURCE_3\"]],X.loc[:,'AMT_GOODS_PRICE'])\n",
    "model.score(X.loc[:,[\"AMT_ANNUITY\",\"CNT_FAM_MEMBERS\",\"EXT_SOURCE_2\",\"EXT_SOURCE_3\"]],X.loc[:,'AMT_GOODS_PRICE'])"
   ]
  },
  {
   "cell_type": "code",
   "execution_count": null,
   "metadata": {},
   "outputs": [],
   "source": []
  },
  {
   "cell_type": "code",
   "execution_count": 17,
   "metadata": {
    "ExecuteTime": {
     "end_time": "2020-01-23T17:44:10.912309Z",
     "start_time": "2020-01-23T17:44:10.880365Z"
    }
   },
   "outputs": [],
   "source": [
    "preddf=df2.loc[((df2.AMT_ANNUITY.notnull())&(df2.CNT_FAM_MEMBERS.notnull())&(df2.EXT_SOURCE_2.notnull())\n",
    "          & (df2.EXT_SOURCE_3.notnull()) & (df2.AMT_GOODS_PRICE.isnull()))]\n",
    "\n",
    "preddf=preddf.loc[:,[\"AMT_ANNUITY\",\"CNT_FAM_MEMBERS\",\"EXT_SOURCE_2\",\"EXT_SOURCE_3\"]]"
   ]
  },
  {
   "cell_type": "code",
   "execution_count": 18,
   "metadata": {
    "ExecuteTime": {
     "end_time": "2020-01-23T17:44:11.876005Z",
     "start_time": "2020-01-23T17:44:11.840072Z"
    }
   },
   "outputs": [],
   "source": [
    "df.AMT_GOODS_PRICE[(df2.AMT_ANNUITY.notnull())&(df2.CNT_FAM_MEMBERS.notnull())&(df2.EXT_SOURCE_2.notnull())\n",
    "          & (df2.EXT_SOURCE_3.notnull()) & (df2.AMT_GOODS_PRICE.isnull())] = model.predict(preddf)"
   ]
  },
  {
   "cell_type": "code",
   "execution_count": 19,
   "metadata": {
    "ExecuteTime": {
     "end_time": "2020-01-23T17:44:12.538340Z",
     "start_time": "2020-01-23T17:44:12.519355Z"
    }
   },
   "outputs": [],
   "source": [
    "df.AMT_GOODS_PRICE[(df.AMT_GOODS_PRICE.isnull())]=df.AMT_GOODS_PRICE[(df.AMT_GOODS_PRICE.notnull())].median()"
   ]
  },
  {
   "cell_type": "code",
   "execution_count": 20,
   "metadata": {
    "ExecuteTime": {
     "end_time": "2020-01-23T17:44:14.096138Z",
     "start_time": "2020-01-23T17:44:13.422311Z"
    }
   },
   "outputs": [
    {
     "data": {
      "text/plain": [
       "0    Unaccompanied\n",
       "1           Family\n",
       "2    Unaccompanied\n",
       "3    Unaccompanied\n",
       "4    Unaccompanied\n",
       "Name: NAME_TYPE_SUITE, dtype: object"
      ]
     },
     "execution_count": 20,
     "metadata": {},
     "output_type": "execute_result"
    }
   ],
   "source": [
    "df['NAME_TYPE_SUITE'].head()"
   ]
  },
  {
   "cell_type": "code",
   "execution_count": 21,
   "metadata": {
    "ExecuteTime": {
     "end_time": "2020-01-23T17:44:14.863857Z",
     "start_time": "2020-01-23T17:44:14.699055Z"
    }
   },
   "outputs": [
    {
     "data": {
      "text/html": [
       "<div>\n",
       "<style scoped>\n",
       "    .dataframe tbody tr th:only-of-type {\n",
       "        vertical-align: middle;\n",
       "    }\n",
       "\n",
       "    .dataframe tbody tr th {\n",
       "        vertical-align: top;\n",
       "    }\n",
       "\n",
       "    .dataframe thead th {\n",
       "        text-align: right;\n",
       "    }\n",
       "</style>\n",
       "<table border=\"1\" class=\"dataframe\">\n",
       "  <thead>\n",
       "    <tr style=\"text-align: right;\">\n",
       "      <th>NAME_HOUSING_TYPE</th>\n",
       "      <th>Co-op apartment</th>\n",
       "      <th>House / apartment</th>\n",
       "      <th>Municipal apartment</th>\n",
       "      <th>Office apartment</th>\n",
       "      <th>Rented apartment</th>\n",
       "      <th>With parents</th>\n",
       "    </tr>\n",
       "    <tr>\n",
       "      <th>NAME_TYPE_SUITE</th>\n",
       "      <th></th>\n",
       "      <th></th>\n",
       "      <th></th>\n",
       "      <th></th>\n",
       "      <th></th>\n",
       "      <th></th>\n",
       "    </tr>\n",
       "  </thead>\n",
       "  <tbody>\n",
       "    <tr>\n",
       "      <td>Children</td>\n",
       "      <td>10</td>\n",
       "      <td>2968</td>\n",
       "      <td>148</td>\n",
       "      <td>16</td>\n",
       "      <td>28</td>\n",
       "      <td>97</td>\n",
       "    </tr>\n",
       "    <tr>\n",
       "      <td>Family</td>\n",
       "      <td>138</td>\n",
       "      <td>36746</td>\n",
       "      <td>1138</td>\n",
       "      <td>273</td>\n",
       "      <td>466</td>\n",
       "      <td>1388</td>\n",
       "    </tr>\n",
       "    <tr>\n",
       "      <td>Group of people</td>\n",
       "      <td>2</td>\n",
       "      <td>233</td>\n",
       "      <td>14</td>\n",
       "      <td>1</td>\n",
       "      <td>3</td>\n",
       "      <td>18</td>\n",
       "    </tr>\n",
       "    <tr>\n",
       "      <td>Other_A</td>\n",
       "      <td>6</td>\n",
       "      <td>706</td>\n",
       "      <td>40</td>\n",
       "      <td>7</td>\n",
       "      <td>27</td>\n",
       "      <td>80</td>\n",
       "    </tr>\n",
       "    <tr>\n",
       "      <td>Other_B</td>\n",
       "      <td>9</td>\n",
       "      <td>1471</td>\n",
       "      <td>80</td>\n",
       "      <td>22</td>\n",
       "      <td>51</td>\n",
       "      <td>137</td>\n",
       "    </tr>\n",
       "    <tr>\n",
       "      <td>Spouse, partner</td>\n",
       "      <td>25</td>\n",
       "      <td>10238</td>\n",
       "      <td>356</td>\n",
       "      <td>93</td>\n",
       "      <td>172</td>\n",
       "      <td>486</td>\n",
       "    </tr>\n",
       "    <tr>\n",
       "      <td>Unaccompanied</td>\n",
       "      <td>923</td>\n",
       "      <td>219357</td>\n",
       "      <td>9371</td>\n",
       "      <td>2191</td>\n",
       "      <td>4116</td>\n",
       "      <td>12568</td>\n",
       "    </tr>\n",
       "  </tbody>\n",
       "</table>\n",
       "</div>"
      ],
      "text/plain": [
       "NAME_HOUSING_TYPE  Co-op apartment  House / apartment  Municipal apartment  \\\n",
       "NAME_TYPE_SUITE                                                              \n",
       "Children                        10               2968                  148   \n",
       "Family                         138              36746                 1138   \n",
       "Group of people                  2                233                   14   \n",
       "Other_A                          6                706                   40   \n",
       "Other_B                          9               1471                   80   \n",
       "Spouse, partner                 25              10238                  356   \n",
       "Unaccompanied                  923             219357                 9371   \n",
       "\n",
       "NAME_HOUSING_TYPE  Office apartment  Rented apartment  With parents  \n",
       "NAME_TYPE_SUITE                                                      \n",
       "Children                         16                28            97  \n",
       "Family                          273               466          1388  \n",
       "Group of people                   1                 3            18  \n",
       "Other_A                           7                27            80  \n",
       "Other_B                          22                51           137  \n",
       "Spouse, partner                  93               172           486  \n",
       "Unaccompanied                  2191              4116         12568  "
      ]
     },
     "execution_count": 21,
     "metadata": {},
     "output_type": "execute_result"
    }
   ],
   "source": [
    "pd.crosstab(df['NAME_TYPE_SUITE'], df['NAME_HOUSING_TYPE'],dropna=True)"
   ]
  },
  {
   "cell_type": "code",
   "execution_count": 22,
   "metadata": {
    "ExecuteTime": {
     "end_time": "2020-01-23T17:44:15.633191Z",
     "start_time": "2020-01-23T17:44:15.602276Z"
    }
   },
   "outputs": [
    {
     "data": {
      "text/plain": [
       "array(['Unaccompanied', 'Family', 'Spouse, partner', 'Children',\n",
       "       'Other_A', nan, 'Other_B', 'Group of people'], dtype=object)"
      ]
     },
     "execution_count": 22,
     "metadata": {},
     "output_type": "execute_result"
    }
   ],
   "source": [
    "df['NAME_TYPE_SUITE'].unique()"
   ]
  },
  {
   "cell_type": "code",
   "execution_count": 23,
   "metadata": {
    "ExecuteTime": {
     "end_time": "2020-01-23T17:44:16.878242Z",
     "start_time": "2020-01-23T17:44:16.504901Z"
    }
   },
   "outputs": [],
   "source": [
    "df.NAME_TYPE_SUITE[(df.NAME_TYPE_SUITE.isnull())]=df.NAME_TYPE_SUITE[(df.NAME_TYPE_SUITE.notnull())].mode()[0]"
   ]
  },
  {
   "cell_type": "code",
   "execution_count": 24,
   "metadata": {
    "ExecuteTime": {
     "end_time": "2020-01-23T17:44:17.505218Z",
     "start_time": "2020-01-23T17:44:17.455353Z"
    }
   },
   "outputs": [
    {
     "data": {
      "text/plain": [
       "'Unaccompanied'"
      ]
     },
     "execution_count": 24,
     "metadata": {},
     "output_type": "execute_result"
    }
   ],
   "source": [
    "df.NAME_TYPE_SUITE[(df.NAME_TYPE_SUITE.notnull())].mode()[0]"
   ]
  },
  {
   "cell_type": "code",
   "execution_count": 25,
   "metadata": {
    "ExecuteTime": {
     "end_time": "2020-01-23T17:44:18.492333Z",
     "start_time": "2020-01-23T17:44:18.472418Z"
    }
   },
   "outputs": [],
   "source": [
    "df.AMT_GOODS_PRICE[(df.AMT_GOODS_PRICE.isnull())]=df.AMT_GOODS_PRICE[(df.AMT_GOODS_PRICE.notnull())].median()"
   ]
  },
  {
   "cell_type": "code",
   "execution_count": 26,
   "metadata": {
    "ExecuteTime": {
     "end_time": "2020-01-23T17:44:19.691161Z",
     "start_time": "2020-01-23T17:44:19.344070Z"
    }
   },
   "outputs": [],
   "source": [
    "df.EXT_SOURCE_3[(df.EXT_SOURCE_3.isnull())]=df.EXT_SOURCE_3[(df.EXT_SOURCE_3.notnull())].median()"
   ]
  },
  {
   "cell_type": "code",
   "execution_count": 27,
   "metadata": {
    "ExecuteTime": {
     "end_time": "2020-01-23T17:44:20.186500Z",
     "start_time": "2020-01-23T17:44:20.143654Z"
    }
   },
   "outputs": [],
   "source": [
    "df.OBS_30_CNT_SOCIAL_CIRCLE[(df.OBS_30_CNT_SOCIAL_CIRCLE.isnull())]=df.OBS_30_CNT_SOCIAL_CIRCLE[(df.OBS_30_CNT_SOCIAL_CIRCLE.notnull())].mode()[0]"
   ]
  },
  {
   "cell_type": "code",
   "execution_count": 28,
   "metadata": {
    "ExecuteTime": {
     "end_time": "2020-01-23T17:44:21.500681Z",
     "start_time": "2020-01-23T17:44:20.743023Z"
    }
   },
   "outputs": [],
   "source": [
    "df.DEF_30_CNT_SOCIAL_CIRCLE[(df.DEF_30_CNT_SOCIAL_CIRCLE.isnull())]=df.DEF_30_CNT_SOCIAL_CIRCLE[(df.DEF_30_CNT_SOCIAL_CIRCLE.notnull())].mode()[0]"
   ]
  },
  {
   "cell_type": "code",
   "execution_count": 29,
   "metadata": {
    "ExecuteTime": {
     "end_time": "2020-01-23T17:44:21.705135Z",
     "start_time": "2020-01-23T17:44:21.630334Z"
    }
   },
   "outputs": [],
   "source": [
    "df.OBS_60_CNT_SOCIAL_CIRCLE[(df.OBS_60_CNT_SOCIAL_CIRCLE.isnull())]=df.OBS_60_CNT_SOCIAL_CIRCLE[(df.OBS_60_CNT_SOCIAL_CIRCLE.notnull())].mode()[0]"
   ]
  },
  {
   "cell_type": "code",
   "execution_count": 30,
   "metadata": {
    "ExecuteTime": {
     "end_time": "2020-01-23T17:44:22.438781Z",
     "start_time": "2020-01-23T17:44:22.419831Z"
    }
   },
   "outputs": [],
   "source": [
    "df.DEF_60_CNT_SOCIAL_CIRCLE[(df.DEF_60_CNT_SOCIAL_CIRCLE.isnull())]=df.DEF_60_CNT_SOCIAL_CIRCLE[(df.DEF_60_CNT_SOCIAL_CIRCLE.notnull())].mode()[0]"
   ]
  },
  {
   "cell_type": "code",
   "execution_count": 31,
   "metadata": {
    "ExecuteTime": {
     "end_time": "2020-01-23T17:44:24.020043Z",
     "start_time": "2020-01-23T17:44:23.685143Z"
    }
   },
   "outputs": [],
   "source": [
    "df.DAYS_LAST_PHONE_CHANGE[(df.DAYS_LAST_PHONE_CHANGE.isnull())]=df.DAYS_LAST_PHONE_CHANGE[(df.DAYS_LAST_PHONE_CHANGE.notnull())].mode()[0]"
   ]
  },
  {
   "cell_type": "code",
   "execution_count": 32,
   "metadata": {
    "ExecuteTime": {
     "end_time": "2020-01-23T17:44:25.491942Z",
     "start_time": "2020-01-23T17:44:25.444045Z"
    }
   },
   "outputs": [],
   "source": [
    "df.AMT_REQ_CREDIT_BUREAU_HOUR[(df.AMT_REQ_CREDIT_BUREAU_HOUR.isnull())]=0\n",
    "df.AMT_REQ_CREDIT_BUREAU_DAY[(df.AMT_REQ_CREDIT_BUREAU_DAY.isnull())]=0\n",
    "df.AMT_REQ_CREDIT_BUREAU_WEEK[(df.AMT_REQ_CREDIT_BUREAU_WEEK.isnull())]=0\n",
    "df.AMT_REQ_CREDIT_BUREAU_MON[(df.AMT_REQ_CREDIT_BUREAU_MON.isnull())]=0\n",
    "df.AMT_REQ_CREDIT_BUREAU_QRT[(df.AMT_REQ_CREDIT_BUREAU_QRT.isnull())]=0\n",
    "df.AMT_REQ_CREDIT_BUREAU_YEAR[(df.AMT_REQ_CREDIT_BUREAU_YEAR.isnull())]=0"
   ]
  },
  {
   "cell_type": "code",
   "execution_count": 33,
   "metadata": {
    "ExecuteTime": {
     "end_time": "2020-01-23T17:44:29.958505Z",
     "start_time": "2020-01-23T17:44:29.536672Z"
    }
   },
   "outputs": [],
   "source": [
    "df = df.loc[:,(df.isnull().sum() < 0.2*df.shape[0])]"
   ]
  },
  {
   "cell_type": "code",
   "execution_count": 34,
   "metadata": {
    "ExecuteTime": {
     "end_time": "2020-01-23T17:44:32.728170Z",
     "start_time": "2020-01-23T17:44:32.557832Z"
    }
   },
   "outputs": [
    {
     "data": {
      "text/html": [
       "<div>\n",
       "<style scoped>\n",
       "    .dataframe tbody tr th:only-of-type {\n",
       "        vertical-align: middle;\n",
       "    }\n",
       "\n",
       "    .dataframe tbody tr th {\n",
       "        vertical-align: top;\n",
       "    }\n",
       "\n",
       "    .dataframe thead th {\n",
       "        text-align: right;\n",
       "    }\n",
       "</style>\n",
       "<table border=\"1\" class=\"dataframe\">\n",
       "  <thead>\n",
       "    <tr style=\"text-align: right;\">\n",
       "      <th></th>\n",
       "    </tr>\n",
       "  </thead>\n",
       "  <tbody>\n",
       "    <tr>\n",
       "      <td>0</td>\n",
       "    </tr>\n",
       "    <tr>\n",
       "      <td>1</td>\n",
       "    </tr>\n",
       "    <tr>\n",
       "      <td>2</td>\n",
       "    </tr>\n",
       "    <tr>\n",
       "      <td>3</td>\n",
       "    </tr>\n",
       "    <tr>\n",
       "      <td>4</td>\n",
       "    </tr>\n",
       "    <tr>\n",
       "      <td>...</td>\n",
       "    </tr>\n",
       "    <tr>\n",
       "      <td>307506</td>\n",
       "    </tr>\n",
       "    <tr>\n",
       "      <td>307507</td>\n",
       "    </tr>\n",
       "    <tr>\n",
       "      <td>307508</td>\n",
       "    </tr>\n",
       "    <tr>\n",
       "      <td>307509</td>\n",
       "    </tr>\n",
       "    <tr>\n",
       "      <td>307510</td>\n",
       "    </tr>\n",
       "  </tbody>\n",
       "</table>\n",
       "<p>307511 rows × 0 columns</p>\n",
       "</div>"
      ],
      "text/plain": [
       "Empty DataFrame\n",
       "Columns: []\n",
       "Index: [0, 1, 2, 3, 4, 5, 6, 7, 8, 9, 10, 11, 12, 13, 14, 15, 16, 17, 18, 19, 20, 21, 22, 23, 24, 25, 26, 27, 28, 29, 30, 31, 32, 33, 34, 35, 36, 37, 38, 39, 40, 41, 42, 43, 44, 45, 46, 47, 48, 49, 50, 51, 52, 53, 54, 55, 56, 57, 58, 59, 60, 61, 62, 63, 64, 65, 66, 67, 68, 69, 70, 71, 72, 73, 74, 75, 76, 77, 78, 79, 80, 81, 82, 83, 84, 85, 86, 87, 88, 89, 90, 91, 92, 93, 94, 95, 96, 97, 98, 99, ...]\n",
       "\n",
       "[307511 rows x 0 columns]"
      ]
     },
     "execution_count": 34,
     "metadata": {},
     "output_type": "execute_result"
    }
   ],
   "source": [
    "df.loc[:,df.isnull().any()]"
   ]
  },
  {
   "cell_type": "code",
   "execution_count": null,
   "metadata": {},
   "outputs": [],
   "source": []
  },
  {
   "cell_type": "code",
   "execution_count": 35,
   "metadata": {
    "ExecuteTime": {
     "end_time": "2020-01-23T17:44:56.834188Z",
     "start_time": "2020-01-23T17:44:36.607877Z"
    }
   },
   "outputs": [],
   "source": [
    "df.to_csv(\"train_imputed.csv\")"
   ]
  },
  {
   "cell_type": "code",
   "execution_count": 205,
   "metadata": {
    "ExecuteTime": {
     "end_time": "2020-01-22T15:14:44.396216Z",
     "start_time": "2020-01-22T15:14:43.958765Z"
    }
   },
   "outputs": [],
   "source": [
    "df[df.columns[df.isnull().mean() < 0.2]]"
   ]
  },
  {
   "cell_type": "code",
   "execution_count": 207,
   "metadata": {
    "ExecuteTime": {
     "end_time": "2020-01-22T15:14:50.208347Z",
     "start_time": "2020-01-22T15:14:50.083115Z"
    }
   },
   "outputs": [],
   "source": [
    "#Segregating the numeric and categorical variable names\n",
    "\n",
    "numeric_var_names = [key for key in dict(df_done.dtypes) if dict(df_done.dtypes)[key] in ['float64', 'int64', 'float32', 'int32']]\n",
    "catgorical_var_names = [key for key in dict(df_done.dtypes) if dict(df_done.dtypes)[key] in ['object']]\n"
   ]
  },
  {
   "cell_type": "code",
   "execution_count": 208,
   "metadata": {
    "ExecuteTime": {
     "end_time": "2020-01-22T15:14:52.989352Z",
     "start_time": "2020-01-22T15:14:52.880000Z"
    }
   },
   "outputs": [],
   "source": [
    "df_num=pd.DataFrame()\n",
    "for eachvariable in numeric_var_names:\n",
    "    df_num[eachvariable]=df_done[eachvariable]"
   ]
  },
  {
   "cell_type": "code",
   "execution_count": 209,
   "metadata": {
    "ExecuteTime": {
     "end_time": "2020-01-22T15:14:53.473612Z",
     "start_time": "2020-01-22T15:14:53.442371Z"
    }
   },
   "outputs": [
    {
     "data": {
      "text/html": [
       "<div>\n",
       "<style scoped>\n",
       "    .dataframe tbody tr th:only-of-type {\n",
       "        vertical-align: middle;\n",
       "    }\n",
       "\n",
       "    .dataframe tbody tr th {\n",
       "        vertical-align: top;\n",
       "    }\n",
       "\n",
       "    .dataframe thead th {\n",
       "        text-align: right;\n",
       "    }\n",
       "</style>\n",
       "<table border=\"1\" class=\"dataframe\">\n",
       "  <thead>\n",
       "    <tr style=\"text-align: right;\">\n",
       "      <th></th>\n",
       "      <th>SK_ID_CURR</th>\n",
       "      <th>TARGET</th>\n",
       "      <th>CNT_CHILDREN</th>\n",
       "      <th>AMT_INCOME_TOTAL</th>\n",
       "      <th>AMT_CREDIT</th>\n",
       "      <th>AMT_ANNUITY</th>\n",
       "      <th>AMT_GOODS_PRICE</th>\n",
       "      <th>REGION_POPULATION_RELATIVE</th>\n",
       "      <th>DAYS_BIRTH</th>\n",
       "      <th>DAYS_EMPLOYED</th>\n",
       "      <th>...</th>\n",
       "      <th>FLAG_DOCUMENT_18</th>\n",
       "      <th>FLAG_DOCUMENT_19</th>\n",
       "      <th>FLAG_DOCUMENT_20</th>\n",
       "      <th>FLAG_DOCUMENT_21</th>\n",
       "      <th>AMT_REQ_CREDIT_BUREAU_HOUR</th>\n",
       "      <th>AMT_REQ_CREDIT_BUREAU_DAY</th>\n",
       "      <th>AMT_REQ_CREDIT_BUREAU_WEEK</th>\n",
       "      <th>AMT_REQ_CREDIT_BUREAU_MON</th>\n",
       "      <th>AMT_REQ_CREDIT_BUREAU_QRT</th>\n",
       "      <th>AMT_REQ_CREDIT_BUREAU_YEAR</th>\n",
       "    </tr>\n",
       "  </thead>\n",
       "  <tbody>\n",
       "    <tr>\n",
       "      <td>0</td>\n",
       "      <td>100002</td>\n",
       "      <td>1</td>\n",
       "      <td>0</td>\n",
       "      <td>202500.0</td>\n",
       "      <td>406597.5</td>\n",
       "      <td>24700.5</td>\n",
       "      <td>351000.0</td>\n",
       "      <td>0.018801</td>\n",
       "      <td>-9461</td>\n",
       "      <td>-637</td>\n",
       "      <td>...</td>\n",
       "      <td>0</td>\n",
       "      <td>0</td>\n",
       "      <td>0</td>\n",
       "      <td>0</td>\n",
       "      <td>0.0</td>\n",
       "      <td>0.0</td>\n",
       "      <td>0.0</td>\n",
       "      <td>0.0</td>\n",
       "      <td>0.0</td>\n",
       "      <td>1.0</td>\n",
       "    </tr>\n",
       "    <tr>\n",
       "      <td>1</td>\n",
       "      <td>100003</td>\n",
       "      <td>0</td>\n",
       "      <td>0</td>\n",
       "      <td>270000.0</td>\n",
       "      <td>1293502.5</td>\n",
       "      <td>35698.5</td>\n",
       "      <td>1129500.0</td>\n",
       "      <td>0.003541</td>\n",
       "      <td>-16765</td>\n",
       "      <td>-1188</td>\n",
       "      <td>...</td>\n",
       "      <td>0</td>\n",
       "      <td>0</td>\n",
       "      <td>0</td>\n",
       "      <td>0</td>\n",
       "      <td>0.0</td>\n",
       "      <td>0.0</td>\n",
       "      <td>0.0</td>\n",
       "      <td>0.0</td>\n",
       "      <td>0.0</td>\n",
       "      <td>0.0</td>\n",
       "    </tr>\n",
       "    <tr>\n",
       "      <td>2</td>\n",
       "      <td>100004</td>\n",
       "      <td>0</td>\n",
       "      <td>0</td>\n",
       "      <td>67500.0</td>\n",
       "      <td>135000.0</td>\n",
       "      <td>6750.0</td>\n",
       "      <td>135000.0</td>\n",
       "      <td>0.010032</td>\n",
       "      <td>-19046</td>\n",
       "      <td>-225</td>\n",
       "      <td>...</td>\n",
       "      <td>0</td>\n",
       "      <td>0</td>\n",
       "      <td>0</td>\n",
       "      <td>0</td>\n",
       "      <td>0.0</td>\n",
       "      <td>0.0</td>\n",
       "      <td>0.0</td>\n",
       "      <td>0.0</td>\n",
       "      <td>0.0</td>\n",
       "      <td>0.0</td>\n",
       "    </tr>\n",
       "    <tr>\n",
       "      <td>3</td>\n",
       "      <td>100006</td>\n",
       "      <td>0</td>\n",
       "      <td>0</td>\n",
       "      <td>135000.0</td>\n",
       "      <td>312682.5</td>\n",
       "      <td>29686.5</td>\n",
       "      <td>297000.0</td>\n",
       "      <td>0.008019</td>\n",
       "      <td>-19005</td>\n",
       "      <td>-3039</td>\n",
       "      <td>...</td>\n",
       "      <td>0</td>\n",
       "      <td>0</td>\n",
       "      <td>0</td>\n",
       "      <td>0</td>\n",
       "      <td>NaN</td>\n",
       "      <td>NaN</td>\n",
       "      <td>NaN</td>\n",
       "      <td>NaN</td>\n",
       "      <td>NaN</td>\n",
       "      <td>NaN</td>\n",
       "    </tr>\n",
       "    <tr>\n",
       "      <td>4</td>\n",
       "      <td>100007</td>\n",
       "      <td>0</td>\n",
       "      <td>0</td>\n",
       "      <td>121500.0</td>\n",
       "      <td>513000.0</td>\n",
       "      <td>21865.5</td>\n",
       "      <td>513000.0</td>\n",
       "      <td>0.028663</td>\n",
       "      <td>-19932</td>\n",
       "      <td>-3038</td>\n",
       "      <td>...</td>\n",
       "      <td>0</td>\n",
       "      <td>0</td>\n",
       "      <td>0</td>\n",
       "      <td>0</td>\n",
       "      <td>0.0</td>\n",
       "      <td>0.0</td>\n",
       "      <td>0.0</td>\n",
       "      <td>0.0</td>\n",
       "      <td>0.0</td>\n",
       "      <td>0.0</td>\n",
       "    </tr>\n",
       "  </tbody>\n",
       "</table>\n",
       "<p>5 rows × 61 columns</p>\n",
       "</div>"
      ],
      "text/plain": [
       "   SK_ID_CURR  TARGET  CNT_CHILDREN  AMT_INCOME_TOTAL  AMT_CREDIT  \\\n",
       "0      100002       1             0          202500.0    406597.5   \n",
       "1      100003       0             0          270000.0   1293502.5   \n",
       "2      100004       0             0           67500.0    135000.0   \n",
       "3      100006       0             0          135000.0    312682.5   \n",
       "4      100007       0             0          121500.0    513000.0   \n",
       "\n",
       "   AMT_ANNUITY  AMT_GOODS_PRICE  REGION_POPULATION_RELATIVE  DAYS_BIRTH  \\\n",
       "0      24700.5         351000.0                    0.018801       -9461   \n",
       "1      35698.5        1129500.0                    0.003541      -16765   \n",
       "2       6750.0         135000.0                    0.010032      -19046   \n",
       "3      29686.5         297000.0                    0.008019      -19005   \n",
       "4      21865.5         513000.0                    0.028663      -19932   \n",
       "\n",
       "   DAYS_EMPLOYED  ...  FLAG_DOCUMENT_18  FLAG_DOCUMENT_19  FLAG_DOCUMENT_20  \\\n",
       "0           -637  ...                 0                 0                 0   \n",
       "1          -1188  ...                 0                 0                 0   \n",
       "2           -225  ...                 0                 0                 0   \n",
       "3          -3039  ...                 0                 0                 0   \n",
       "4          -3038  ...                 0                 0                 0   \n",
       "\n",
       "   FLAG_DOCUMENT_21  AMT_REQ_CREDIT_BUREAU_HOUR  AMT_REQ_CREDIT_BUREAU_DAY  \\\n",
       "0                 0                         0.0                        0.0   \n",
       "1                 0                         0.0                        0.0   \n",
       "2                 0                         0.0                        0.0   \n",
       "3                 0                         NaN                        NaN   \n",
       "4                 0                         0.0                        0.0   \n",
       "\n",
       "   AMT_REQ_CREDIT_BUREAU_WEEK  AMT_REQ_CREDIT_BUREAU_MON  \\\n",
       "0                         0.0                        0.0   \n",
       "1                         0.0                        0.0   \n",
       "2                         0.0                        0.0   \n",
       "3                         NaN                        NaN   \n",
       "4                         0.0                        0.0   \n",
       "\n",
       "   AMT_REQ_CREDIT_BUREAU_QRT  AMT_REQ_CREDIT_BUREAU_YEAR  \n",
       "0                        0.0                         1.0  \n",
       "1                        0.0                         0.0  \n",
       "2                        0.0                         0.0  \n",
       "3                        NaN                         NaN  \n",
       "4                        0.0                         0.0  \n",
       "\n",
       "[5 rows x 61 columns]"
      ]
     },
     "execution_count": 209,
     "metadata": {},
     "output_type": "execute_result"
    }
   ],
   "source": [
    "df_num.head()"
   ]
  },
  {
   "cell_type": "code",
   "execution_count": 210,
   "metadata": {
    "ExecuteTime": {
     "end_time": "2020-01-22T15:14:58.064193Z",
     "start_time": "2020-01-22T15:14:57.923806Z"
    }
   },
   "outputs": [],
   "source": [
    "df_num_x=df_num.copy()"
   ]
  },
  {
   "cell_type": "code",
   "execution_count": 211,
   "metadata": {
    "ExecuteTime": {
     "end_time": "2020-01-22T15:15:04.156509Z",
     "start_time": "2020-01-22T15:15:03.875340Z"
    }
   },
   "outputs": [
    {
     "data": {
      "text/plain": [
       "SK_ID_CURR                    0\n",
       "TARGET                        0\n",
       "CNT_CHILDREN                  0\n",
       "AMT_INCOME_TOTAL              0\n",
       "AMT_CREDIT                    0\n",
       "                             ..\n",
       "AMT_REQ_CREDIT_BUREAU_DAY     0\n",
       "AMT_REQ_CREDIT_BUREAU_WEEK    0\n",
       "AMT_REQ_CREDIT_BUREAU_MON     0\n",
       "AMT_REQ_CREDIT_BUREAU_QRT     0\n",
       "AMT_REQ_CREDIT_BUREAU_YEAR    0\n",
       "Length: 61, dtype: int64"
      ]
     },
     "execution_count": 211,
     "metadata": {},
     "output_type": "execute_result"
    }
   ],
   "source": [
    "df_num_x.dropna(inplace=True)\n",
    "df_num_x.isna().sum()"
   ]
  },
  {
   "cell_type": "code",
   "execution_count": 212,
   "metadata": {
    "ExecuteTime": {
     "end_time": "2020-01-22T15:15:07.446447Z",
     "start_time": "2020-01-22T15:15:07.352912Z"
    }
   },
   "outputs": [],
   "source": [
    "df_num_y=df_num_x['EXT_SOURCE_3']\n",
    "df_num_x.drop(columns='EXT_SOURCE_3',inplace=True)"
   ]
  },
  {
   "cell_type": "code",
   "execution_count": 131,
   "metadata": {
    "ExecuteTime": {
     "end_time": "2020-01-22T14:31:35.828744Z",
     "start_time": "2020-01-22T14:31:35.813128Z"
    }
   },
   "outputs": [],
   "source": [
    "from sklearn.preprocessing import scale                           #For scaling the data\n",
    "from sklearn.linear_model import Ridge, RidgeCV, Lasso, LassoCV   #For fitting regularized models and cross validation algo.\n",
    "from sklearn.metrics import mean_squared_error                    #For validation\n"
   ]
  },
  {
   "cell_type": "code",
   "execution_count": 213,
   "metadata": {
    "ExecuteTime": {
     "end_time": "2020-01-22T15:15:24.215764Z",
     "start_time": "2020-01-22T15:15:15.077753Z"
    }
   },
   "outputs": [
    {
     "data": {
      "text/plain": [
       "3.438604996973896"
      ]
     },
     "execution_count": 213,
     "metadata": {},
     "output_type": "execute_result"
    }
   ],
   "source": [
    "#identifying the Best alpha (a.k.a. lambda)\n",
    "\n",
    "lassocv1=LassoCV()\n",
    "lassocv1.fit(df_num_x,df_num_y)\n",
    "lassocv1.alpha_\n",
    "\n",
    "lasso1=Lasso(alpha=lassocv1.alpha_,normalize=True,fit_intercept=True)\n",
    "lasso1.fit(df_num_x,df_num_y)"
   ]
  },
  {
   "cell_type": "code",
   "execution_count": 214,
   "metadata": {
    "ExecuteTime": {
     "end_time": "2020-01-22T15:15:24.926730Z",
     "start_time": "2020-01-22T15:15:24.559433Z"
    }
   },
   "outputs": [
    {
     "data": {
      "text/plain": [
       "Lasso(alpha=3.438604996973896, copy_X=True, fit_intercept=True, max_iter=1000,\n",
       "      normalize=True, positive=False, precompute=False, random_state=None,\n",
       "      selection='cyclic', tol=0.0001, warm_start=False)"
      ]
     },
     "execution_count": 214,
     "metadata": {},
     "output_type": "execute_result"
    }
   ],
   "source": []
  },
  {
   "cell_type": "code",
   "execution_count": 270,
   "metadata": {
    "ExecuteTime": {
     "end_time": "2020-01-22T16:16:53.850987Z",
     "start_time": "2020-01-22T16:16:53.804083Z"
    }
   },
   "outputs": [],
   "source": [
    "preddf=df_num.loc[(df_num.EXT_SOURCE_3.isnull())]"
   ]
  },
  {
   "cell_type": "code",
   "execution_count": 239,
   "metadata": {
    "ExecuteTime": {
     "end_time": "2020-01-22T15:27:44.058236Z",
     "start_time": "2020-01-22T15:27:44.026996Z"
    }
   },
   "outputs": [],
   "source": [
    "preddf=preddf.drop(columns='EXT_SOURCE_3')"
   ]
  },
  {
   "cell_type": "code",
   "execution_count": 218,
   "metadata": {
    "ExecuteTime": {
     "end_time": "2020-01-22T15:15:53.797712Z",
     "start_time": "2020-01-22T15:15:53.750846Z"
    }
   },
   "outputs": [],
   "source": [
    "preddf.dropna(inplace=True)"
   ]
  },
  {
   "cell_type": "code",
   "execution_count": null,
   "metadata": {},
   "outputs": [],
   "source": []
  },
  {
   "cell_type": "code",
   "execution_count": 219,
   "metadata": {
    "ExecuteTime": {
     "end_time": "2020-01-22T15:15:55.656647Z",
     "start_time": "2020-01-22T15:15:55.625404Z"
    }
   },
   "outputs": [],
   "source": [
    "preddf['out']=lasso1.predict(preddf)"
   ]
  },
  {
   "cell_type": "code",
   "execution_count": 220,
   "metadata": {
    "ExecuteTime": {
     "end_time": "2020-01-22T15:15:56.281500Z",
     "start_time": "2020-01-22T15:15:56.234640Z"
    }
   },
   "outputs": [
    {
     "data": {
      "text/html": [
       "<div>\n",
       "<style scoped>\n",
       "    .dataframe tbody tr th:only-of-type {\n",
       "        vertical-align: middle;\n",
       "    }\n",
       "\n",
       "    .dataframe tbody tr th {\n",
       "        vertical-align: top;\n",
       "    }\n",
       "\n",
       "    .dataframe thead th {\n",
       "        text-align: right;\n",
       "    }\n",
       "</style>\n",
       "<table border=\"1\" class=\"dataframe\">\n",
       "  <thead>\n",
       "    <tr style=\"text-align: right;\">\n",
       "      <th></th>\n",
       "      <th>out</th>\n",
       "    </tr>\n",
       "  </thead>\n",
       "  <tbody>\n",
       "    <tr>\n",
       "      <td>count</td>\n",
       "      <td>1.934400e+04</td>\n",
       "    </tr>\n",
       "    <tr>\n",
       "      <td>mean</td>\n",
       "      <td>5.107740e-01</td>\n",
       "    </tr>\n",
       "    <tr>\n",
       "      <td>std</td>\n",
       "      <td>1.629850e-13</td>\n",
       "    </tr>\n",
       "    <tr>\n",
       "      <td>min</td>\n",
       "      <td>5.107740e-01</td>\n",
       "    </tr>\n",
       "    <tr>\n",
       "      <td>25%</td>\n",
       "      <td>5.107740e-01</td>\n",
       "    </tr>\n",
       "    <tr>\n",
       "      <td>50%</td>\n",
       "      <td>5.107740e-01</td>\n",
       "    </tr>\n",
       "    <tr>\n",
       "      <td>75%</td>\n",
       "      <td>5.107740e-01</td>\n",
       "    </tr>\n",
       "    <tr>\n",
       "      <td>max</td>\n",
       "      <td>5.107740e-01</td>\n",
       "    </tr>\n",
       "  </tbody>\n",
       "</table>\n",
       "</div>"
      ],
      "text/plain": [
       "                out\n",
       "count  1.934400e+04\n",
       "mean   5.107740e-01\n",
       "std    1.629850e-13\n",
       "min    5.107740e-01\n",
       "25%    5.107740e-01\n",
       "50%    5.107740e-01\n",
       "75%    5.107740e-01\n",
       "max    5.107740e-01"
      ]
     },
     "execution_count": 220,
     "metadata": {},
     "output_type": "execute_result"
    }
   ],
   "source": [
    "preddf.loc[:,['out']].describe()"
   ]
  },
  {
   "cell_type": "code",
   "execution_count": 235,
   "metadata": {
    "ExecuteTime": {
     "end_time": "2020-01-22T15:23:55.324098Z",
     "start_time": "2020-01-22T15:23:55.292822Z"
    }
   },
   "outputs": [
    {
     "data": {
      "text/plain": [
       "SK_ID_CURR                    100008.0\n",
       "TARGET                             0.0\n",
       "CNT_CHILDREN                       0.0\n",
       "AMT_INCOME_TOTAL               99000.0\n",
       "AMT_CREDIT                    490495.5\n",
       "                                ...   \n",
       "AMT_REQ_CREDIT_BUREAU_DAY          0.0\n",
       "AMT_REQ_CREDIT_BUREAU_WEEK         0.0\n",
       "AMT_REQ_CREDIT_BUREAU_MON          0.0\n",
       "AMT_REQ_CREDIT_BUREAU_QRT          1.0\n",
       "AMT_REQ_CREDIT_BUREAU_YEAR         1.0\n",
       "Name: 5, Length: 61, dtype: float64"
      ]
     },
     "execution_count": 235,
     "metadata": {},
     "output_type": "execute_result"
    }
   ],
   "source": [
    "df_num.loc[5]"
   ]
  },
  {
   "cell_type": "code",
   "execution_count": 233,
   "metadata": {
    "ExecuteTime": {
     "end_time": "2020-01-22T15:22:07.591171Z",
     "start_time": "2020-01-22T15:22:07.575588Z"
    }
   },
   "outputs": [
    {
     "data": {
      "text/plain": [
       "SK_ID_CURR                        100008\n",
       "TARGET                                 0\n",
       "NAME_CONTRACT_TYPE            Cash loans\n",
       "CODE_GENDER                            M\n",
       "FLAG_OWN_CAR                           N\n",
       "                                 ...    \n",
       "AMT_REQ_CREDIT_BUREAU_DAY              0\n",
       "AMT_REQ_CREDIT_BUREAU_WEEK             0\n",
       "AMT_REQ_CREDIT_BUREAU_MON              0\n",
       "AMT_REQ_CREDIT_BUREAU_QRT              1\n",
       "AMT_REQ_CREDIT_BUREAU_YEAR             1\n",
       "Name: 5, Length: 122, dtype: object"
      ]
     },
     "execution_count": 233,
     "metadata": {},
     "output_type": "execute_result"
    }
   ],
   "source": [
    "df.loc[5]"
   ]
  },
  {
   "cell_type": "code",
   "execution_count": 268,
   "metadata": {
    "ExecuteTime": {
     "end_time": "2020-01-22T15:45:33.955238Z",
     "start_time": "2020-01-22T15:45:33.861525Z"
    }
   },
   "outputs": [],
   "source": [
    "xyz=df_num.loc[(df.EXT_SOURCE_3.isnull())].drop(columns='EXT_SOURCE_3').dropna()"
   ]
  },
  {
   "cell_type": "code",
   "execution_count": 269,
   "metadata": {
    "ExecuteTime": {
     "end_time": "2020-01-22T15:45:45.466056Z",
     "start_time": "2020-01-22T15:45:45.450393Z"
    }
   },
   "outputs": [
    {
     "data": {
      "text/plain": [
       "Int64Index([     1,      4,     31,     41,     78,     89,     97,    109,\n",
       "               116,    136,\n",
       "            ...\n",
       "            307289, 307307, 307365, 307380, 307385, 307405, 307411, 307421,\n",
       "            307444, 307467],\n",
       "           dtype='int64', length=19344)"
      ]
     },
     "execution_count": 269,
     "metadata": {},
     "output_type": "execute_result"
    }
   ],
   "source": [
    "xyz.index"
   ]
  },
  {
   "cell_type": "code",
   "execution_count": 260,
   "metadata": {
    "ExecuteTime": {
     "end_time": "2020-01-22T15:40:54.151085Z",
     "start_time": "2020-01-22T15:40:54.041741Z"
    }
   },
   "outputs": [
    {
     "data": {
      "text/plain": [
       "array([0.51077401, 0.51077401, 0.51077401, ..., 0.51077401, 0.51077401,\n",
       "       0.51077401])"
      ]
     },
     "execution_count": 260,
     "metadata": {},
     "output_type": "execute_result"
    }
   ],
   "source": [
    "abc=lasso1.predict(df_num.loc[(df.EXT_SOURCE_3.isnull())].drop(columns='EXT_SOURCE_3').dropna())\n",
    "abc"
   ]
  },
  {
   "cell_type": "code",
   "execution_count": 261,
   "metadata": {
    "ExecuteTime": {
     "end_time": "2020-01-22T15:41:14.551250Z",
     "start_time": "2020-01-22T15:41:14.520246Z"
    }
   },
   "outputs": [
    {
     "data": {
      "text/plain": [
       "19344"
      ]
     },
     "execution_count": 261,
     "metadata": {},
     "output_type": "execute_result"
    }
   ],
   "source": [
    "len(abc)"
   ]
  },
  {
   "cell_type": "code",
   "execution_count": null,
   "metadata": {},
   "outputs": [],
   "source": [
    "df2['new'] = df2.rename(index=df.set_index('key')['bar']).index"
   ]
  },
  {
   "cell_type": "code",
   "execution_count": null,
   "metadata": {},
   "outputs": [],
   "source": [
    "df.AMT_GOODS_PRICE[(df.AMT_GOODS_PRICE.isnull())]=df.AMT_GOODS_PRICE[(df.AMT_GOODS_PRICE.notnull())].median()"
   ]
  },
  {
   "cell_type": "code",
   "execution_count": null,
   "metadata": {},
   "outputs": [],
   "source": [
    "df.describe(percentiles=[.25,0.5,0.75,0.90,0.95,0.99])"
   ]
  },
  {
   "cell_type": "code",
   "execution_count": null,
   "metadata": {},
   "outputs": [],
   "source": []
  },
  {
   "cell_type": "code",
   "execution_count": 2,
   "metadata": {
    "ExecuteTime": {
     "end_time": "2020-01-21T15:16:16.868300Z",
     "start_time": "2020-01-21T15:15:13.226945Z"
    }
   },
   "outputs": [],
   "source": [
    "app_train = pd.read_csv('application_train.csv')\n",
    "app_test = pd.read_csv('application_test.csv')\n",
    "bureau = pd.read_csv('bureau.csv')\n",
    "bureau_balance = pd.read_csv('bureau_balance.csv')\n",
    "pos_cash_balance = pd.read_csv('POS_CASH_balance.csv')\n",
    "\n",
    "previous_app = pd.read_csv('previous_application.csv')\n",
    "installments_payments = pd.read_csv('installments_payments.csv')\n",
    "credit_card_balance = pd.read_csv('credit_card_balance.csv')"
   ]
  },
  {
   "cell_type": "code",
   "execution_count": 3,
   "metadata": {
    "ExecuteTime": {
     "end_time": "2020-01-21T15:16:21.599000Z",
     "start_time": "2020-01-21T15:16:21.035320Z"
    }
   },
   "outputs": [
    {
     "data": {
      "text/html": [
       "<div>\n",
       "<style scoped>\n",
       "    .dataframe tbody tr th:only-of-type {\n",
       "        vertical-align: middle;\n",
       "    }\n",
       "\n",
       "    .dataframe tbody tr th {\n",
       "        vertical-align: top;\n",
       "    }\n",
       "\n",
       "    .dataframe thead th {\n",
       "        text-align: right;\n",
       "    }\n",
       "</style>\n",
       "<table border=\"1\" class=\"dataframe\">\n",
       "  <thead>\n",
       "    <tr style=\"text-align: right;\">\n",
       "      <th></th>\n",
       "      <th>SK_ID_CURR</th>\n",
       "      <th>previous_loan_counts</th>\n",
       "    </tr>\n",
       "  </thead>\n",
       "  <tbody>\n",
       "    <tr>\n",
       "      <td>0</td>\n",
       "      <td>100001</td>\n",
       "      <td>7</td>\n",
       "    </tr>\n",
       "    <tr>\n",
       "      <td>1</td>\n",
       "      <td>100002</td>\n",
       "      <td>8</td>\n",
       "    </tr>\n",
       "    <tr>\n",
       "      <td>2</td>\n",
       "      <td>100003</td>\n",
       "      <td>4</td>\n",
       "    </tr>\n",
       "    <tr>\n",
       "      <td>3</td>\n",
       "      <td>100004</td>\n",
       "      <td>2</td>\n",
       "    </tr>\n",
       "    <tr>\n",
       "      <td>4</td>\n",
       "      <td>100005</td>\n",
       "      <td>3</td>\n",
       "    </tr>\n",
       "  </tbody>\n",
       "</table>\n",
       "</div>"
      ],
      "text/plain": [
       "   SK_ID_CURR  previous_loan_counts\n",
       "0      100001                     7\n",
       "1      100002                     8\n",
       "2      100003                     4\n",
       "3      100004                     2\n",
       "4      100005                     3"
      ]
     },
     "execution_count": 3,
     "metadata": {},
     "output_type": "execute_result"
    }
   ],
   "source": [
    "# Groupby the client id (SK_ID_CURR), count the number of previous loans, and rename the column\n",
    "previous_loan_counts = bureau.groupby('SK_ID_CURR', as_index=False)['SK_ID_BUREAU'].count().rename(columns = {'SK_ID_BUREAU': 'previous_loan_counts'})\n",
    "previous_loan_counts.head()"
   ]
  },
  {
   "cell_type": "code",
   "execution_count": 4,
   "metadata": {
    "ExecuteTime": {
     "end_time": "2020-01-21T15:16:24.249648Z",
     "start_time": "2020-01-21T15:16:24.218409Z"
    }
   },
   "outputs": [],
   "source": [
    "def normalize_categorical(df, group_var, col_name):\n",
    "    \n",
    "    \"\"\"Computes counts and normalized counts for each observation\n",
    "    of `group_var` for each unique category in every categorical variable\n",
    "    \n",
    "    Parameters \n",
    "    ----------\n",
    "    df - DataFrame for which we will calculate count\n",
    "    \n",
    "    group_var  = string\n",
    "        The variable by which to group the dataframe. For each unique\n",
    "        value of this variable, the final dataframe will have one row\n",
    "        \n",
    "    col_name = string\n",
    "            Variable added to the front of column names to keep track of columns\n",
    "            \n",
    "            \"\"\"\n",
    "    # select the categorical columns\n",
    "    categorical = pd.get_dummies(df.select_dtypes('object'))\n",
    "    \n",
    "    # Make sure to put the identifying id on the column\n",
    "    categorical[group_var] = df[group_var]\n",
    "    \n",
    "    # Groupby the group var and calculate the sum and mean\n",
    "    categorical = categorical.groupby(group_var).agg(['sum', 'mean'])                                              \n",
    "    \n",
    "    column_names = []\n",
    "    \n",
    "    # Iterate through the columns in level 0\n",
    "    for var in categorical.columns.levels[0]:\n",
    "        # Iterate through the stats in level 1\n",
    "        for stat in ['count', 'count_norm']:\n",
    "            # Make a new column name\n",
    "            column_names.append('%s_%s_%s' % (col_name, var, stat))\n",
    "    \n",
    "    categorical.columns = column_names\n",
    "    \n",
    "    return categorical\n",
    "    "
   ]
  },
  {
   "cell_type": "code",
   "execution_count": 5,
   "metadata": {
    "ExecuteTime": {
     "end_time": "2020-01-21T15:16:35.602900Z",
     "start_time": "2020-01-21T15:16:25.678645Z"
    }
   },
   "outputs": [
    {
     "data": {
      "text/html": [
       "<div>\n",
       "<style scoped>\n",
       "    .dataframe tbody tr th:only-of-type {\n",
       "        vertical-align: middle;\n",
       "    }\n",
       "\n",
       "    .dataframe tbody tr th {\n",
       "        vertical-align: top;\n",
       "    }\n",
       "\n",
       "    .dataframe thead th {\n",
       "        text-align: right;\n",
       "    }\n",
       "</style>\n",
       "<table border=\"1\" class=\"dataframe\">\n",
       "  <thead>\n",
       "    <tr style=\"text-align: right;\">\n",
       "      <th></th>\n",
       "      <th>bureau_CREDIT_ACTIVE_Active_count</th>\n",
       "      <th>bureau_CREDIT_ACTIVE_Active_count_norm</th>\n",
       "      <th>bureau_CREDIT_ACTIVE_Bad debt_count</th>\n",
       "      <th>bureau_CREDIT_ACTIVE_Bad debt_count_norm</th>\n",
       "      <th>bureau_CREDIT_ACTIVE_Closed_count</th>\n",
       "      <th>bureau_CREDIT_ACTIVE_Closed_count_norm</th>\n",
       "      <th>bureau_CREDIT_ACTIVE_Sold_count</th>\n",
       "      <th>bureau_CREDIT_ACTIVE_Sold_count_norm</th>\n",
       "      <th>bureau_CREDIT_CURRENCY_currency 1_count</th>\n",
       "      <th>bureau_CREDIT_CURRENCY_currency 1_count_norm</th>\n",
       "      <th>...</th>\n",
       "      <th>bureau_CREDIT_TYPE_Microloan_count</th>\n",
       "      <th>bureau_CREDIT_TYPE_Microloan_count_norm</th>\n",
       "      <th>bureau_CREDIT_TYPE_Mobile operator loan_count</th>\n",
       "      <th>bureau_CREDIT_TYPE_Mobile operator loan_count_norm</th>\n",
       "      <th>bureau_CREDIT_TYPE_Mortgage_count</th>\n",
       "      <th>bureau_CREDIT_TYPE_Mortgage_count_norm</th>\n",
       "      <th>bureau_CREDIT_TYPE_Real estate loan_count</th>\n",
       "      <th>bureau_CREDIT_TYPE_Real estate loan_count_norm</th>\n",
       "      <th>bureau_CREDIT_TYPE_Unknown type of loan_count</th>\n",
       "      <th>bureau_CREDIT_TYPE_Unknown type of loan_count_norm</th>\n",
       "    </tr>\n",
       "    <tr>\n",
       "      <th>SK_ID_CURR</th>\n",
       "      <th></th>\n",
       "      <th></th>\n",
       "      <th></th>\n",
       "      <th></th>\n",
       "      <th></th>\n",
       "      <th></th>\n",
       "      <th></th>\n",
       "      <th></th>\n",
       "      <th></th>\n",
       "      <th></th>\n",
       "      <th></th>\n",
       "      <th></th>\n",
       "      <th></th>\n",
       "      <th></th>\n",
       "      <th></th>\n",
       "      <th></th>\n",
       "      <th></th>\n",
       "      <th></th>\n",
       "      <th></th>\n",
       "      <th></th>\n",
       "      <th></th>\n",
       "    </tr>\n",
       "  </thead>\n",
       "  <tbody>\n",
       "    <tr>\n",
       "      <td>100001</td>\n",
       "      <td>3</td>\n",
       "      <td>0.428571</td>\n",
       "      <td>0</td>\n",
       "      <td>0.0</td>\n",
       "      <td>4</td>\n",
       "      <td>0.571429</td>\n",
       "      <td>0</td>\n",
       "      <td>0.0</td>\n",
       "      <td>7</td>\n",
       "      <td>1.0</td>\n",
       "      <td>...</td>\n",
       "      <td>0</td>\n",
       "      <td>0.0</td>\n",
       "      <td>0</td>\n",
       "      <td>0.0</td>\n",
       "      <td>0</td>\n",
       "      <td>0.0</td>\n",
       "      <td>0</td>\n",
       "      <td>0.0</td>\n",
       "      <td>0</td>\n",
       "      <td>0.0</td>\n",
       "    </tr>\n",
       "    <tr>\n",
       "      <td>100002</td>\n",
       "      <td>2</td>\n",
       "      <td>0.250000</td>\n",
       "      <td>0</td>\n",
       "      <td>0.0</td>\n",
       "      <td>6</td>\n",
       "      <td>0.750000</td>\n",
       "      <td>0</td>\n",
       "      <td>0.0</td>\n",
       "      <td>8</td>\n",
       "      <td>1.0</td>\n",
       "      <td>...</td>\n",
       "      <td>0</td>\n",
       "      <td>0.0</td>\n",
       "      <td>0</td>\n",
       "      <td>0.0</td>\n",
       "      <td>0</td>\n",
       "      <td>0.0</td>\n",
       "      <td>0</td>\n",
       "      <td>0.0</td>\n",
       "      <td>0</td>\n",
       "      <td>0.0</td>\n",
       "    </tr>\n",
       "    <tr>\n",
       "      <td>100003</td>\n",
       "      <td>1</td>\n",
       "      <td>0.250000</td>\n",
       "      <td>0</td>\n",
       "      <td>0.0</td>\n",
       "      <td>3</td>\n",
       "      <td>0.750000</td>\n",
       "      <td>0</td>\n",
       "      <td>0.0</td>\n",
       "      <td>4</td>\n",
       "      <td>1.0</td>\n",
       "      <td>...</td>\n",
       "      <td>0</td>\n",
       "      <td>0.0</td>\n",
       "      <td>0</td>\n",
       "      <td>0.0</td>\n",
       "      <td>0</td>\n",
       "      <td>0.0</td>\n",
       "      <td>0</td>\n",
       "      <td>0.0</td>\n",
       "      <td>0</td>\n",
       "      <td>0.0</td>\n",
       "    </tr>\n",
       "    <tr>\n",
       "      <td>100004</td>\n",
       "      <td>0</td>\n",
       "      <td>0.000000</td>\n",
       "      <td>0</td>\n",
       "      <td>0.0</td>\n",
       "      <td>2</td>\n",
       "      <td>1.000000</td>\n",
       "      <td>0</td>\n",
       "      <td>0.0</td>\n",
       "      <td>2</td>\n",
       "      <td>1.0</td>\n",
       "      <td>...</td>\n",
       "      <td>0</td>\n",
       "      <td>0.0</td>\n",
       "      <td>0</td>\n",
       "      <td>0.0</td>\n",
       "      <td>0</td>\n",
       "      <td>0.0</td>\n",
       "      <td>0</td>\n",
       "      <td>0.0</td>\n",
       "      <td>0</td>\n",
       "      <td>0.0</td>\n",
       "    </tr>\n",
       "    <tr>\n",
       "      <td>100005</td>\n",
       "      <td>2</td>\n",
       "      <td>0.666667</td>\n",
       "      <td>0</td>\n",
       "      <td>0.0</td>\n",
       "      <td>1</td>\n",
       "      <td>0.333333</td>\n",
       "      <td>0</td>\n",
       "      <td>0.0</td>\n",
       "      <td>3</td>\n",
       "      <td>1.0</td>\n",
       "      <td>...</td>\n",
       "      <td>0</td>\n",
       "      <td>0.0</td>\n",
       "      <td>0</td>\n",
       "      <td>0.0</td>\n",
       "      <td>0</td>\n",
       "      <td>0.0</td>\n",
       "      <td>0</td>\n",
       "      <td>0.0</td>\n",
       "      <td>0</td>\n",
       "      <td>0.0</td>\n",
       "    </tr>\n",
       "  </tbody>\n",
       "</table>\n",
       "<p>5 rows × 46 columns</p>\n",
       "</div>"
      ],
      "text/plain": [
       "            bureau_CREDIT_ACTIVE_Active_count  \\\n",
       "SK_ID_CURR                                      \n",
       "100001                                      3   \n",
       "100002                                      2   \n",
       "100003                                      1   \n",
       "100004                                      0   \n",
       "100005                                      2   \n",
       "\n",
       "            bureau_CREDIT_ACTIVE_Active_count_norm  \\\n",
       "SK_ID_CURR                                           \n",
       "100001                                    0.428571   \n",
       "100002                                    0.250000   \n",
       "100003                                    0.250000   \n",
       "100004                                    0.000000   \n",
       "100005                                    0.666667   \n",
       "\n",
       "            bureau_CREDIT_ACTIVE_Bad debt_count  \\\n",
       "SK_ID_CURR                                        \n",
       "100001                                        0   \n",
       "100002                                        0   \n",
       "100003                                        0   \n",
       "100004                                        0   \n",
       "100005                                        0   \n",
       "\n",
       "            bureau_CREDIT_ACTIVE_Bad debt_count_norm  \\\n",
       "SK_ID_CURR                                             \n",
       "100001                                           0.0   \n",
       "100002                                           0.0   \n",
       "100003                                           0.0   \n",
       "100004                                           0.0   \n",
       "100005                                           0.0   \n",
       "\n",
       "            bureau_CREDIT_ACTIVE_Closed_count  \\\n",
       "SK_ID_CURR                                      \n",
       "100001                                      4   \n",
       "100002                                      6   \n",
       "100003                                      3   \n",
       "100004                                      2   \n",
       "100005                                      1   \n",
       "\n",
       "            bureau_CREDIT_ACTIVE_Closed_count_norm  \\\n",
       "SK_ID_CURR                                           \n",
       "100001                                    0.571429   \n",
       "100002                                    0.750000   \n",
       "100003                                    0.750000   \n",
       "100004                                    1.000000   \n",
       "100005                                    0.333333   \n",
       "\n",
       "            bureau_CREDIT_ACTIVE_Sold_count  \\\n",
       "SK_ID_CURR                                    \n",
       "100001                                    0   \n",
       "100002                                    0   \n",
       "100003                                    0   \n",
       "100004                                    0   \n",
       "100005                                    0   \n",
       "\n",
       "            bureau_CREDIT_ACTIVE_Sold_count_norm  \\\n",
       "SK_ID_CURR                                         \n",
       "100001                                       0.0   \n",
       "100002                                       0.0   \n",
       "100003                                       0.0   \n",
       "100004                                       0.0   \n",
       "100005                                       0.0   \n",
       "\n",
       "            bureau_CREDIT_CURRENCY_currency 1_count  \\\n",
       "SK_ID_CURR                                            \n",
       "100001                                            7   \n",
       "100002                                            8   \n",
       "100003                                            4   \n",
       "100004                                            2   \n",
       "100005                                            3   \n",
       "\n",
       "            bureau_CREDIT_CURRENCY_currency 1_count_norm  ...  \\\n",
       "SK_ID_CURR                                                ...   \n",
       "100001                                               1.0  ...   \n",
       "100002                                               1.0  ...   \n",
       "100003                                               1.0  ...   \n",
       "100004                                               1.0  ...   \n",
       "100005                                               1.0  ...   \n",
       "\n",
       "            bureau_CREDIT_TYPE_Microloan_count  \\\n",
       "SK_ID_CURR                                       \n",
       "100001                                       0   \n",
       "100002                                       0   \n",
       "100003                                       0   \n",
       "100004                                       0   \n",
       "100005                                       0   \n",
       "\n",
       "            bureau_CREDIT_TYPE_Microloan_count_norm  \\\n",
       "SK_ID_CURR                                            \n",
       "100001                                          0.0   \n",
       "100002                                          0.0   \n",
       "100003                                          0.0   \n",
       "100004                                          0.0   \n",
       "100005                                          0.0   \n",
       "\n",
       "            bureau_CREDIT_TYPE_Mobile operator loan_count  \\\n",
       "SK_ID_CURR                                                  \n",
       "100001                                                  0   \n",
       "100002                                                  0   \n",
       "100003                                                  0   \n",
       "100004                                                  0   \n",
       "100005                                                  0   \n",
       "\n",
       "            bureau_CREDIT_TYPE_Mobile operator loan_count_norm  \\\n",
       "SK_ID_CURR                                                       \n",
       "100001                                                    0.0    \n",
       "100002                                                    0.0    \n",
       "100003                                                    0.0    \n",
       "100004                                                    0.0    \n",
       "100005                                                    0.0    \n",
       "\n",
       "            bureau_CREDIT_TYPE_Mortgage_count  \\\n",
       "SK_ID_CURR                                      \n",
       "100001                                      0   \n",
       "100002                                      0   \n",
       "100003                                      0   \n",
       "100004                                      0   \n",
       "100005                                      0   \n",
       "\n",
       "            bureau_CREDIT_TYPE_Mortgage_count_norm  \\\n",
       "SK_ID_CURR                                           \n",
       "100001                                         0.0   \n",
       "100002                                         0.0   \n",
       "100003                                         0.0   \n",
       "100004                                         0.0   \n",
       "100005                                         0.0   \n",
       "\n",
       "            bureau_CREDIT_TYPE_Real estate loan_count  \\\n",
       "SK_ID_CURR                                              \n",
       "100001                                              0   \n",
       "100002                                              0   \n",
       "100003                                              0   \n",
       "100004                                              0   \n",
       "100005                                              0   \n",
       "\n",
       "            bureau_CREDIT_TYPE_Real estate loan_count_norm  \\\n",
       "SK_ID_CURR                                                   \n",
       "100001                                                 0.0   \n",
       "100002                                                 0.0   \n",
       "100003                                                 0.0   \n",
       "100004                                                 0.0   \n",
       "100005                                                 0.0   \n",
       "\n",
       "            bureau_CREDIT_TYPE_Unknown type of loan_count  \\\n",
       "SK_ID_CURR                                                  \n",
       "100001                                                  0   \n",
       "100002                                                  0   \n",
       "100003                                                  0   \n",
       "100004                                                  0   \n",
       "100005                                                  0   \n",
       "\n",
       "            bureau_CREDIT_TYPE_Unknown type of loan_count_norm  \n",
       "SK_ID_CURR                                                      \n",
       "100001                                                    0.0   \n",
       "100002                                                    0.0   \n",
       "100003                                                    0.0   \n",
       "100004                                                    0.0   \n",
       "100005                                                    0.0   \n",
       "\n",
       "[5 rows x 46 columns]"
      ]
     },
     "execution_count": 5,
     "metadata": {},
     "output_type": "execute_result"
    }
   ],
   "source": [
    "bureau_counts = normalize_categorical(bureau, group_var = 'SK_ID_CURR', col_name = 'bureau')\n",
    "bureau_counts.head()"
   ]
  },
  {
   "cell_type": "code",
   "execution_count": 6,
   "metadata": {
    "ExecuteTime": {
     "end_time": "2020-01-21T15:16:47.105139Z",
     "start_time": "2020-01-21T15:16:47.089477Z"
    }
   },
   "outputs": [
    {
     "data": {
      "text/plain": [
       "(307511, 122)"
      ]
     },
     "execution_count": 6,
     "metadata": {},
     "output_type": "execute_result"
    }
   ],
   "source": [
    "app_train.shape"
   ]
  },
  {
   "cell_type": "code",
   "execution_count": 7,
   "metadata": {
    "ExecuteTime": {
     "end_time": "2020-01-21T15:17:00.408195Z",
     "start_time": "2020-01-21T15:16:48.975828Z"
    }
   },
   "outputs": [
    {
     "data": {
      "text/html": [
       "<div>\n",
       "<style scoped>\n",
       "    .dataframe tbody tr th:only-of-type {\n",
       "        vertical-align: middle;\n",
       "    }\n",
       "\n",
       "    .dataframe tbody tr th {\n",
       "        vertical-align: top;\n",
       "    }\n",
       "\n",
       "    .dataframe thead th {\n",
       "        text-align: right;\n",
       "    }\n",
       "</style>\n",
       "<table border=\"1\" class=\"dataframe\">\n",
       "  <thead>\n",
       "    <tr style=\"text-align: right;\">\n",
       "      <th></th>\n",
       "      <th>SK_ID_BUREAU</th>\n",
       "      <th>DAYS_CREDIT</th>\n",
       "      <th>CREDIT_DAY_OVERDUE</th>\n",
       "      <th>DAYS_CREDIT_ENDDATE</th>\n",
       "      <th>DAYS_ENDDATE_FACT</th>\n",
       "      <th>AMT_CREDIT_MAX_OVERDUE</th>\n",
       "      <th>CNT_CREDIT_PROLONG</th>\n",
       "      <th>AMT_CREDIT_SUM</th>\n",
       "      <th>AMT_CREDIT_SUM_DEBT</th>\n",
       "      <th>AMT_CREDIT_SUM_LIMIT</th>\n",
       "      <th>AMT_CREDIT_SUM_OVERDUE</th>\n",
       "      <th>DAYS_CREDIT_UPDATE</th>\n",
       "      <th>AMT_ANNUITY</th>\n",
       "    </tr>\n",
       "    <tr>\n",
       "      <th>SK_ID_CURR</th>\n",
       "      <th></th>\n",
       "      <th></th>\n",
       "      <th></th>\n",
       "      <th></th>\n",
       "      <th></th>\n",
       "      <th></th>\n",
       "      <th></th>\n",
       "      <th></th>\n",
       "      <th></th>\n",
       "      <th></th>\n",
       "      <th></th>\n",
       "      <th></th>\n",
       "      <th></th>\n",
       "    </tr>\n",
       "  </thead>\n",
       "  <tbody>\n",
       "    <tr>\n",
       "      <td>100001</td>\n",
       "      <td>5896633.000</td>\n",
       "      <td>-735.000000</td>\n",
       "      <td>0.0</td>\n",
       "      <td>82.428571</td>\n",
       "      <td>-825.500000</td>\n",
       "      <td>NaN</td>\n",
       "      <td>0.0</td>\n",
       "      <td>207623.571429</td>\n",
       "      <td>85240.928571</td>\n",
       "      <td>0.00000</td>\n",
       "      <td>0.0</td>\n",
       "      <td>-93.142857</td>\n",
       "      <td>3545.357143</td>\n",
       "    </tr>\n",
       "    <tr>\n",
       "      <td>100002</td>\n",
       "      <td>6153272.125</td>\n",
       "      <td>-874.000000</td>\n",
       "      <td>0.0</td>\n",
       "      <td>-349.000000</td>\n",
       "      <td>-697.500000</td>\n",
       "      <td>1681.029</td>\n",
       "      <td>0.0</td>\n",
       "      <td>108131.945625</td>\n",
       "      <td>49156.200000</td>\n",
       "      <td>7997.14125</td>\n",
       "      <td>0.0</td>\n",
       "      <td>-499.875000</td>\n",
       "      <td>0.000000</td>\n",
       "    </tr>\n",
       "    <tr>\n",
       "      <td>100003</td>\n",
       "      <td>5885878.500</td>\n",
       "      <td>-1400.750000</td>\n",
       "      <td>0.0</td>\n",
       "      <td>-544.500000</td>\n",
       "      <td>-1097.333333</td>\n",
       "      <td>0.000</td>\n",
       "      <td>0.0</td>\n",
       "      <td>254350.125000</td>\n",
       "      <td>0.000000</td>\n",
       "      <td>202500.00000</td>\n",
       "      <td>0.0</td>\n",
       "      <td>-816.000000</td>\n",
       "      <td>NaN</td>\n",
       "    </tr>\n",
       "    <tr>\n",
       "      <td>100004</td>\n",
       "      <td>6829133.500</td>\n",
       "      <td>-867.000000</td>\n",
       "      <td>0.0</td>\n",
       "      <td>-488.500000</td>\n",
       "      <td>-532.500000</td>\n",
       "      <td>0.000</td>\n",
       "      <td>0.0</td>\n",
       "      <td>94518.900000</td>\n",
       "      <td>0.000000</td>\n",
       "      <td>0.00000</td>\n",
       "      <td>0.0</td>\n",
       "      <td>-532.000000</td>\n",
       "      <td>NaN</td>\n",
       "    </tr>\n",
       "    <tr>\n",
       "      <td>100005</td>\n",
       "      <td>6735201.000</td>\n",
       "      <td>-190.666667</td>\n",
       "      <td>0.0</td>\n",
       "      <td>439.333333</td>\n",
       "      <td>-123.000000</td>\n",
       "      <td>0.000</td>\n",
       "      <td>0.0</td>\n",
       "      <td>219042.000000</td>\n",
       "      <td>189469.500000</td>\n",
       "      <td>0.00000</td>\n",
       "      <td>0.0</td>\n",
       "      <td>-54.333333</td>\n",
       "      <td>1420.500000</td>\n",
       "    </tr>\n",
       "  </tbody>\n",
       "</table>\n",
       "</div>"
      ],
      "text/plain": [
       "            SK_ID_BUREAU  DAYS_CREDIT  CREDIT_DAY_OVERDUE  \\\n",
       "SK_ID_CURR                                                  \n",
       "100001       5896633.000  -735.000000                 0.0   \n",
       "100002       6153272.125  -874.000000                 0.0   \n",
       "100003       5885878.500 -1400.750000                 0.0   \n",
       "100004       6829133.500  -867.000000                 0.0   \n",
       "100005       6735201.000  -190.666667                 0.0   \n",
       "\n",
       "            DAYS_CREDIT_ENDDATE  DAYS_ENDDATE_FACT  AMT_CREDIT_MAX_OVERDUE  \\\n",
       "SK_ID_CURR                                                                   \n",
       "100001                82.428571        -825.500000                     NaN   \n",
       "100002              -349.000000        -697.500000                1681.029   \n",
       "100003              -544.500000       -1097.333333                   0.000   \n",
       "100004              -488.500000        -532.500000                   0.000   \n",
       "100005               439.333333        -123.000000                   0.000   \n",
       "\n",
       "            CNT_CREDIT_PROLONG  AMT_CREDIT_SUM  AMT_CREDIT_SUM_DEBT  \\\n",
       "SK_ID_CURR                                                            \n",
       "100001                     0.0   207623.571429         85240.928571   \n",
       "100002                     0.0   108131.945625         49156.200000   \n",
       "100003                     0.0   254350.125000             0.000000   \n",
       "100004                     0.0    94518.900000             0.000000   \n",
       "100005                     0.0   219042.000000        189469.500000   \n",
       "\n",
       "            AMT_CREDIT_SUM_LIMIT  AMT_CREDIT_SUM_OVERDUE  DAYS_CREDIT_UPDATE  \\\n",
       "SK_ID_CURR                                                                     \n",
       "100001                   0.00000                     0.0          -93.142857   \n",
       "100002                7997.14125                     0.0         -499.875000   \n",
       "100003              202500.00000                     0.0         -816.000000   \n",
       "100004                   0.00000                     0.0         -532.000000   \n",
       "100005                   0.00000                     0.0          -54.333333   \n",
       "\n",
       "            AMT_ANNUITY  \n",
       "SK_ID_CURR               \n",
       "100001      3545.357143  \n",
       "100002         0.000000  \n",
       "100003              NaN  \n",
       "100004              NaN  \n",
       "100005      1420.500000  "
      ]
     },
     "execution_count": 7,
     "metadata": {},
     "output_type": "execute_result"
    }
   ],
   "source": [
    "# Grouping data  so  that we can merge all the files in 1 dataset\n",
    "\n",
    "data_bureau_agg=bureau.groupby(by='SK_ID_CURR').mean()\n",
    "data_credit_card_balance_agg=credit_card_balance.groupby(by='SK_ID_CURR').mean()\n",
    "data_previous_application_agg=previous_app.groupby(by='SK_ID_CURR').mean()\n",
    "data_installments_payments_agg=installments_payments.groupby(by='SK_ID_CURR').mean()\n",
    "data_POS_CASH_balance_agg=pos_cash_balance.groupby(by='SK_ID_CURR').mean()\n",
    "\n",
    "data_bureau_agg.head()"
   ]
  },
  {
   "cell_type": "code",
   "execution_count": 8,
   "metadata": {
    "ExecuteTime": {
     "end_time": "2020-01-21T15:17:12.341456Z",
     "start_time": "2020-01-21T15:17:05.341990Z"
    }
   },
   "outputs": [
    {
     "data": {
      "text/html": [
       "<div>\n",
       "<style scoped>\n",
       "    .dataframe tbody tr th:only-of-type {\n",
       "        vertical-align: middle;\n",
       "    }\n",
       "\n",
       "    .dataframe tbody tr th {\n",
       "        vertical-align: top;\n",
       "    }\n",
       "\n",
       "    .dataframe thead th {\n",
       "        text-align: right;\n",
       "    }\n",
       "</style>\n",
       "<table border=\"1\" class=\"dataframe\">\n",
       "  <thead>\n",
       "    <tr style=\"text-align: right;\">\n",
       "      <th></th>\n",
       "      <th>SK_ID_CURR</th>\n",
       "      <th>TARGET</th>\n",
       "      <th>NAME_CONTRACT_TYPE</th>\n",
       "      <th>CODE_GENDER</th>\n",
       "      <th>FLAG_OWN_CAR</th>\n",
       "      <th>FLAG_OWN_REALTY</th>\n",
       "      <th>CNT_CHILDREN</th>\n",
       "      <th>AMT_INCOME_TOTAL</th>\n",
       "      <th>AMT_CREDIT1</th>\n",
       "      <th>AMT_ANNUITY1</th>\n",
       "      <th>...</th>\n",
       "      <th>DAYS_LAST_DUE</th>\n",
       "      <th>DAYS_TERMINATION</th>\n",
       "      <th>NFLAG_INSURED_ON_APPROVAL</th>\n",
       "      <th>SK_ID_PREV</th>\n",
       "      <th>NUM_INSTALMENT_VERSION</th>\n",
       "      <th>NUM_INSTALMENT_NUMBER</th>\n",
       "      <th>DAYS_INSTALMENT</th>\n",
       "      <th>DAYS_ENTRY_PAYMENT</th>\n",
       "      <th>AMT_INSTALMENT</th>\n",
       "      <th>AMT_PAYMENT</th>\n",
       "    </tr>\n",
       "  </thead>\n",
       "  <tbody>\n",
       "    <tr>\n",
       "      <td>0</td>\n",
       "      <td>100002</td>\n",
       "      <td>1</td>\n",
       "      <td>Cash loans</td>\n",
       "      <td>M</td>\n",
       "      <td>N</td>\n",
       "      <td>Y</td>\n",
       "      <td>0</td>\n",
       "      <td>202500.0</td>\n",
       "      <td>406597.5</td>\n",
       "      <td>24700.5</td>\n",
       "      <td>...</td>\n",
       "      <td>-25.000000</td>\n",
       "      <td>-17.000000</td>\n",
       "      <td>0.000000</td>\n",
       "      <td>1.038818e+06</td>\n",
       "      <td>1.052632</td>\n",
       "      <td>10.000000</td>\n",
       "      <td>-295.000000</td>\n",
       "      <td>-315.421053</td>\n",
       "      <td>11559.247105</td>\n",
       "      <td>11559.247105</td>\n",
       "    </tr>\n",
       "    <tr>\n",
       "      <td>1</td>\n",
       "      <td>100003</td>\n",
       "      <td>0</td>\n",
       "      <td>Cash loans</td>\n",
       "      <td>F</td>\n",
       "      <td>N</td>\n",
       "      <td>N</td>\n",
       "      <td>0</td>\n",
       "      <td>270000.0</td>\n",
       "      <td>1293502.5</td>\n",
       "      <td>35698.5</td>\n",
       "      <td>...</td>\n",
       "      <td>-1054.333333</td>\n",
       "      <td>-1047.333333</td>\n",
       "      <td>0.666667</td>\n",
       "      <td>2.290070e+06</td>\n",
       "      <td>1.040000</td>\n",
       "      <td>5.080000</td>\n",
       "      <td>-1378.160000</td>\n",
       "      <td>-1385.320000</td>\n",
       "      <td>64754.586000</td>\n",
       "      <td>64754.586000</td>\n",
       "    </tr>\n",
       "    <tr>\n",
       "      <td>2</td>\n",
       "      <td>100004</td>\n",
       "      <td>0</td>\n",
       "      <td>Revolving loans</td>\n",
       "      <td>M</td>\n",
       "      <td>Y</td>\n",
       "      <td>Y</td>\n",
       "      <td>0</td>\n",
       "      <td>67500.0</td>\n",
       "      <td>135000.0</td>\n",
       "      <td>6750.0</td>\n",
       "      <td>...</td>\n",
       "      <td>-724.000000</td>\n",
       "      <td>-714.000000</td>\n",
       "      <td>0.000000</td>\n",
       "      <td>1.564014e+06</td>\n",
       "      <td>1.333333</td>\n",
       "      <td>2.000000</td>\n",
       "      <td>-754.000000</td>\n",
       "      <td>-761.666667</td>\n",
       "      <td>7096.155000</td>\n",
       "      <td>7096.155000</td>\n",
       "    </tr>\n",
       "    <tr>\n",
       "      <td>3</td>\n",
       "      <td>100006</td>\n",
       "      <td>0</td>\n",
       "      <td>Cash loans</td>\n",
       "      <td>F</td>\n",
       "      <td>N</td>\n",
       "      <td>Y</td>\n",
       "      <td>0</td>\n",
       "      <td>135000.0</td>\n",
       "      <td>312682.5</td>\n",
       "      <td>29686.5</td>\n",
       "      <td>...</td>\n",
       "      <td>182477.500000</td>\n",
       "      <td>182481.750000</td>\n",
       "      <td>0.000000</td>\n",
       "      <td>2.217428e+06</td>\n",
       "      <td>1.125000</td>\n",
       "      <td>4.437500</td>\n",
       "      <td>-252.250000</td>\n",
       "      <td>-271.625000</td>\n",
       "      <td>62947.088438</td>\n",
       "      <td>62947.088438</td>\n",
       "    </tr>\n",
       "    <tr>\n",
       "      <td>4</td>\n",
       "      <td>100007</td>\n",
       "      <td>0</td>\n",
       "      <td>Cash loans</td>\n",
       "      <td>M</td>\n",
       "      <td>N</td>\n",
       "      <td>Y</td>\n",
       "      <td>0</td>\n",
       "      <td>121500.0</td>\n",
       "      <td>513000.0</td>\n",
       "      <td>21865.5</td>\n",
       "      <td>...</td>\n",
       "      <td>72136.200000</td>\n",
       "      <td>72143.800000</td>\n",
       "      <td>0.600000</td>\n",
       "      <td>2.048985e+06</td>\n",
       "      <td>1.166667</td>\n",
       "      <td>7.045455</td>\n",
       "      <td>-1028.606061</td>\n",
       "      <td>-1032.242424</td>\n",
       "      <td>12666.444545</td>\n",
       "      <td>12214.060227</td>\n",
       "    </tr>\n",
       "  </tbody>\n",
       "</table>\n",
       "<p>5 rows × 230 columns</p>\n",
       "</div>"
      ],
      "text/plain": [
       "   SK_ID_CURR  TARGET NAME_CONTRACT_TYPE CODE_GENDER FLAG_OWN_CAR  \\\n",
       "0      100002       1         Cash loans           M            N   \n",
       "1      100003       0         Cash loans           F            N   \n",
       "2      100004       0    Revolving loans           M            Y   \n",
       "3      100006       0         Cash loans           F            N   \n",
       "4      100007       0         Cash loans           M            N   \n",
       "\n",
       "  FLAG_OWN_REALTY  CNT_CHILDREN  AMT_INCOME_TOTAL  AMT_CREDIT1  AMT_ANNUITY1  \\\n",
       "0               Y             0          202500.0     406597.5       24700.5   \n",
       "1               N             0          270000.0    1293502.5       35698.5   \n",
       "2               Y             0           67500.0     135000.0        6750.0   \n",
       "3               Y             0          135000.0     312682.5       29686.5   \n",
       "4               Y             0          121500.0     513000.0       21865.5   \n",
       "\n",
       "   ...  DAYS_LAST_DUE DAYS_TERMINATION NFLAG_INSURED_ON_APPROVAL  \\\n",
       "0  ...     -25.000000       -17.000000                  0.000000   \n",
       "1  ...   -1054.333333     -1047.333333                  0.666667   \n",
       "2  ...    -724.000000      -714.000000                  0.000000   \n",
       "3  ...  182477.500000    182481.750000                  0.000000   \n",
       "4  ...   72136.200000     72143.800000                  0.600000   \n",
       "\n",
       "     SK_ID_PREV NUM_INSTALMENT_VERSION NUM_INSTALMENT_NUMBER  DAYS_INSTALMENT  \\\n",
       "0  1.038818e+06               1.052632             10.000000      -295.000000   \n",
       "1  2.290070e+06               1.040000              5.080000     -1378.160000   \n",
       "2  1.564014e+06               1.333333              2.000000      -754.000000   \n",
       "3  2.217428e+06               1.125000              4.437500      -252.250000   \n",
       "4  2.048985e+06               1.166667              7.045455     -1028.606061   \n",
       "\n",
       "   DAYS_ENTRY_PAYMENT  AMT_INSTALMENT   AMT_PAYMENT  \n",
       "0         -315.421053    11559.247105  11559.247105  \n",
       "1        -1385.320000    64754.586000  64754.586000  \n",
       "2         -761.666667     7096.155000   7096.155000  \n",
       "3         -271.625000    62947.088438  62947.088438  \n",
       "4        -1032.242424    12666.444545  12214.060227  \n",
       "\n",
       "[5 rows x 230 columns]"
      ]
     },
     "metadata": {},
     "output_type": "display_data"
    }
   ],
   "source": [
    "def merge(df):\n",
    "    df = df.join(data_bureau_agg, how='left', on='SK_ID_CURR', lsuffix='1', rsuffix='2') \n",
    "    df = df.join(bureau_counts, on = 'SK_ID_CURR', how = 'left')\n",
    "    df = df.merge(previous_loan_counts, on = 'SK_ID_CURR', how = 'left')\n",
    "    df = df.join(data_credit_card_balance_agg, how='left', on='SK_ID_CURR', lsuffix='1', rsuffix='2')    \n",
    "    df = df.join(data_previous_application_agg, how='left', on='SK_ID_CURR', lsuffix='1', rsuffix='2')   \n",
    "    df = df.join(data_installments_payments_agg, how='left', on='SK_ID_CURR', lsuffix='1', rsuffix='2') \n",
    "    \n",
    "    return df\n",
    "\n",
    "train = merge(app_train)\n",
    "test = merge(app_test)\n",
    "display(train.head())"
   ]
  },
  {
   "cell_type": "code",
   "execution_count": 9,
   "metadata": {
    "ExecuteTime": {
     "end_time": "2020-01-21T15:17:17.281070Z",
     "start_time": "2020-01-21T15:17:17.211512Z"
    }
   },
   "outputs": [
    {
     "data": {
      "text/plain": [
       "(307511, 230)"
      ]
     },
     "execution_count": 9,
     "metadata": {},
     "output_type": "execute_result"
    }
   ],
   "source": [
    "train.shape"
   ]
  },
  {
   "cell_type": "code",
   "execution_count": null,
   "metadata": {},
   "outputs": [],
   "source": []
  },
  {
   "cell_type": "code",
   "execution_count": null,
   "metadata": {},
   "outputs": [],
   "source": []
  }
 ],
 "metadata": {
  "kernelspec": {
   "display_name": "Python 3",
   "language": "python",
   "name": "python3"
  },
  "language_info": {
   "codemirror_mode": {
    "name": "ipython",
    "version": 3
   },
   "file_extension": ".py",
   "mimetype": "text/x-python",
   "name": "python",
   "nbconvert_exporter": "python",
   "pygments_lexer": "ipython3",
   "version": "3.7.4"
  },
  "varInspector": {
   "cols": {
    "lenName": 16,
    "lenType": 16,
    "lenVar": 40
   },
   "kernels_config": {
    "python": {
     "delete_cmd_postfix": "",
     "delete_cmd_prefix": "del ",
     "library": "var_list.py",
     "varRefreshCmd": "print(var_dic_list())"
    },
    "r": {
     "delete_cmd_postfix": ") ",
     "delete_cmd_prefix": "rm(",
     "library": "var_list.r",
     "varRefreshCmd": "cat(var_dic_list()) "
    }
   },
   "oldHeight": 122.85,
   "position": {
    "height": "359.85px",
    "left": "802px",
    "right": "20px",
    "top": "93px",
    "width": "346px"
   },
   "types_to_exclude": [
    "module",
    "function",
    "builtin_function_or_method",
    "instance",
    "_Feature"
   ],
   "varInspector_section_display": "block",
   "window_display": false
  }
 },
 "nbformat": 4,
 "nbformat_minor": 2
}
