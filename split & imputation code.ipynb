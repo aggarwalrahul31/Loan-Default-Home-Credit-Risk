{
 "cells": [
  {
   "cell_type": "code",
   "execution_count": 3,
   "metadata": {},
   "outputs": [],
   "source": [
    "import os\n",
    "import pandas as pd\n",
    "import numpy as np\n",
    "import matplotlib.pyplot as plt\n",
    "\n",
    "os.chdir('C:/Users/neji/Downloads/home-credit-default-risk')\n",
    "cc = pd.read_csv('credit_card_balance.csv')\n"
   ]
  },
  {
   "cell_type": "code",
   "execution_count": 2,
   "metadata": {},
   "outputs": [
    {
     "data": {
      "text/plain": [
       "SK_ID_PREV                    0.000000\n",
       "SK_ID_CURR                    0.000000\n",
       "MONTHS_BALANCE                0.000000\n",
       "AMT_BALANCE                   0.000000\n",
       "AMT_CREDIT_LIMIT_ACTUAL       0.000000\n",
       "AMT_DRAWINGS_ATM_CURRENT      0.242620\n",
       "AMT_DRAWINGS_CURRENT          0.000000\n",
       "AMT_DRAWINGS_OTHER_CURRENT    0.242620\n",
       "AMT_DRAWINGS_POS_CURRENT      0.242620\n",
       "AMT_INST_MIN_REGULARITY       0.086345\n",
       "AMT_PAYMENT_CURRENT           0.249970\n",
       "AMT_PAYMENT_TOTAL_CURRENT     0.000000\n",
       "AMT_RECEIVABLE_PRINCIPAL      0.000000\n",
       "AMT_RECIVABLE                 0.000000\n",
       "AMT_TOTAL_RECEIVABLE          0.000000\n",
       "CNT_DRAWINGS_ATM_CURRENT      0.242620\n",
       "CNT_DRAWINGS_CURRENT          0.000000\n",
       "CNT_DRAWINGS_OTHER_CURRENT    0.242620\n",
       "CNT_DRAWINGS_POS_CURRENT      0.242620\n",
       "CNT_INSTALMENT_MATURE_CUM     0.086345\n",
       "NAME_CONTRACT_STATUS          0.000000\n",
       "SK_DPD                        0.000000\n",
       "SK_DPD_DEF                    0.000000\n",
       "dtype: float64"
      ]
     },
     "execution_count": 2,
     "metadata": {},
     "output_type": "execute_result"
    }
   ],
   "source": [
    "cc.isnull().sum()/cc.count()"
   ]
  },
  {
   "cell_type": "code",
   "execution_count": null,
   "metadata": {},
   "outputs": [],
   "source": [
    "list_id_credit_card_balance=cc.loc[:,'SK_ID_CURR']\n",
    "unique_test_ids=app_test.loc[:,'SK_ID_CURR']\n",
    "unique_train_ids=app_train.loc[:,'SK_ID_CURR']\n",
    "credit_train_skid=set(list_id_credit_card_balance).intersection(set(unique_train_ids))\n",
    "credit_test_skid=set(list_id_credit_card_balance).intersection(set(unique_test_ids))\n",
    "credit_test=cc[cc.SK_ID_CURR.isin(credit_test_skid)]\n",
    "credit_train=cc[cc.SK_ID_CURR.isin(credit_train_skid)]"
   ]
  },
  {
   "cell_type": "code",
   "execution_count": null,
   "metadata": {},
   "outputs": [],
   "source": [
    "credit_train.isnull().sum()/credit_train.count()"
   ]
  },
  {
   "cell_type": "code",
   "execution_count": null,
   "metadata": {},
   "outputs": [],
   "source": [
    "m1 = credit_train['AMT_DRAWINGS_ATM_CURRENT'].median()\n",
    "m2 = credit_train['AMT_DRAWINGS_OTHER_CURRENT'].median()\n",
    "m3 = credit_train['AMT_DRAWINGS_POS_CURRENT'].median()\n",
    "m4 = credit_train['AMT_INST_MIN_REGULARITY'].median()\n",
    "m5 = credit_train['AMT_PAYMENT_CURRENT'].median()\n",
    "m6 = credit_train['CNT_DRAWINGS_ATM_CURRENT'].median()\n",
    "m7 = credit_train['CNT_DRAWINGS_OTHER_CURRENT'].median()\n",
    "m8 = credit_train['CNT_DRAWINGS_POS_CURRENT'].median()\n",
    "m9 = credit_train['CNT_INSTALMENT_MATURE_CUM'].median()"
   ]
  },
  {
   "cell_type": "code",
   "execution_count": null,
   "metadata": {},
   "outputs": [],
   "source": [
    "credit_train_new['AMT_DRAWINGS_ATM_CURRENT'].fillna(m1, inplace=True)\n",
    "credit_train_new['AMT_DRAWINGS_OTHER_CURRENT'].fillna(m2, inplace=True)\n",
    "credit_train_new['AMT_DRAWINGS_POS_CURRENT'].fillna(m3, inplace=True)\n",
    "credit_train_new['AMT_INST_MIN_REGULARITY'].fillna(m4, inplace=True)\n",
    "credit_train_new['AMT_PAYMENT_CURRENT'].fillna(m5, inplace=True)\n",
    "credit_train_new['CNT_DRAWINGS_ATM_CURRENT'].fillna(m6, inplace=True)\n",
    "credit_train_new['CNT_DRAWINGS_OTHER_CURRENT'].fillna(m7, inplace=True)\n",
    "credit_train_new['CNT_DRAWINGS_POS_CURRENT'].fillna(m8, inplace=True)\n",
    "credit_train_new['CNT_INSTALMENT_MATURE_CUM'].fillna(m9, inplace=True)"
   ]
  },
  {
   "cell_type": "markdown",
   "metadata": {},
   "source": [
    " "
   ]
  },
  {
   "cell_type": "markdown",
   "metadata": {},
   "source": [
    " "
   ]
  },
  {
   "cell_type": "code",
   "execution_count": null,
   "metadata": {},
   "outputs": [],
   "source": [
    "inst=pd.read_csv(r'D:\\Data science course\\TERM 2\\FINA\\installments_payments.csv')\n",
    "inst.isnull().sum()/inst.count()"
   ]
  },
  {
   "cell_type": "code",
   "execution_count": null,
   "metadata": {},
   "outputs": [],
   "source": [
    "list_id_inst=inst.loc[:,'SK_ID_CURR']\n",
    "unique_test_ids=app_test.loc[:,'SK_ID_CURR']\n",
    "unique_train_ids=app_train.loc[:,'SK_ID_CURR']\n",
    "inst_train_skid=set(list_id_inst).intersection(set(unique_train_ids))\n",
    "inst_test_skid=set(list_id_inst).intersection(set(unique_test_ids))\n",
    "inst_test=inst[inst.SK_ID_CURR.isin(inst_test_skid)]\n",
    "inst_train=inst[inst.SK_ID_CURR.isin(inst_train_skid)]"
   ]
  },
  {
   "cell_type": "code",
   "execution_count": null,
   "metadata": {},
   "outputs": [],
   "source": [
    "inst_train1=inst_train.copy()\n",
    "value1=inst_train1['DAYS_ENTRY_PAYMENT'].median()\n",
    "value2=inst_train1['AMT_PAYMENT'].median()\n",
    "inst_train1['DAYS_ENTRY_PAYMENT'].fillna(value1,inplace=True)\n",
    "inst_train1['AMT_PAYMENT'].fillna(value2,inplace=True)"
   ]
  },
  {
   "cell_type": "code",
   "execution_count": null,
   "metadata": {},
   "outputs": [],
   "source": [
    "pos=pd.read_csv(r'D:\\Data science course\\TERM 2\\FINA\\POS_CASH_balance.csv')\n",
    "pos.isnull().sum()/pos.count()"
   ]
  },
  {
   "cell_type": "code",
   "execution_count": null,
   "metadata": {},
   "outputs": [],
   "source": [
    "list_id_pos=pos.loc[:,'SK_ID_CURR']\n",
    "unique_test_ids=app_test.loc[:,'SK_ID_CURR']\n",
    "unique_train_ids=app_train.loc[:,'SK_ID_CURR']\n",
    "pos_train_skid=set(list_id_pos).intersection(set(unique_train_ids))\n",
    "pos_test_skid=set(list_id_pos).intersection(set(unique_test_ids))\n",
    "pos_test=pos[pos.SK_ID_CURR.isin(pos_test_skid)]\n",
    "pos_train=pos[pos.SK_ID_CURR.isin(pos_train_skid)]"
   ]
  },
  {
   "cell_type": "code",
   "execution_count": null,
   "metadata": {},
   "outputs": [],
   "source": [
    "pos_train1=pos_train.copy()\n",
    "val1=pos_train1['CNT_INSTALMENT'].median()\n",
    "pos_train1['CNT_INSTALMENT'].fillna(val1,inplace=True)\n",
    "\n",
    "val2=pos_train1['CNT_INSTALMENT_FUTURE'].median()\n",
    "pos_train1['CNT_INSTALMENT'].fillna(val2,inplace=True)"
   ]
  },
  {
   "cell_type": "code",
   "execution_count": null,
   "metadata": {},
   "outputs": [],
   "source": [
    "os.chdir(\"C:\\\\Users\\\\R swetha\\\\Desktop\\\\home-credit-default-risk\")\n",
    "data = pd.read_csv(\"previous_application.csv\")"
   ]
  },
  {
   "cell_type": "code",
   "execution_count": null,
   "metadata": {},
   "outputs": [],
   "source": [
    "list_id_data=data.loc[:,'SK_ID_CURR']\n",
    "unique_test_ids=app_test.loc[:,'SK_ID_CURR']\n",
    "unique_train_ids=app_train.loc[:,'SK_ID_CURR']\n",
    "previous_application_train_skid=set(list_id_data).intersection(set(unique_train_ids))\n",
    "previous_application_test_skid=set(list_id_data).intersection(set(unique_test_ids))\n",
    "previous_application_train=data[data.SK_ID_CURR.isin(previous_application_train_skid)]\n",
    "previous_application_test=data[data.SK_ID_CURR.isin(previous_application_test_skid)]\n",
    "newtrain = previous_application_train"
   ]
  },
  {
   "cell_type": "code",
   "execution_count": null,
   "metadata": {},
   "outputs": [],
   "source": [
    "newtrain = previous_application_train\n",
    "newtrain=newtrain.drop(columns=['AMT_DOWN_PAYMENT', 'RATE_DOWN_PAYMENT','RATE_INTEREST_PRIMARY','RATE_INTEREST_PRIVILEGED','NAME_TYPE_SUITE','DAYS_FIRST_DRAWING','DAYS_FIRST_DUE','DAYS_LAST_DUE_1ST_VERSION','DAYS_LAST_DUE','DAYS_TERMINATION','NFLAG_INSURED_ON_APPROVAL'], axis = 1)\n",
    "newtrain.AMT_ANNUITY[newtrain.AMT_ANNUITY.isnull()] = newtrain.AMT_ANNUITY.median()\n",
    "newtrain.AMT_GOODS_PRICE[newtrain.AMT_GOODS_PRICE.isnull()] = newtrain.AMT_GOODS_PRICE.median()\n",
    "newtrain.AMT_CREDIT[newtrain.AMT_CREDIT.isnull()] = newtrain.AMT_CREDIT.median()\n",
    "newtrain.DAYS_FIRST_DRAWING[newtrain.CNT_PAYMENT.isnull()] = newtrain.CNT_PAYMENT.median()\n",
    "\n",
    "pd.crosstab(newtrain.PRODUCT_COMBINATION,columns=\"counts\")/1413701*100\n",
    "newtrain.PRODUCT_COMBINATION[newtrain.PRODUCT_COMBINATION.isnull()] = \"Cash\""
   ]
  },
  {
   "cell_type": "code",
   "execution_count": null,
   "metadata": {},
   "outputs": [],
   "source": [
    "### bureau & bureau balance joined file"
   ]
  },
  {
   "cell_type": "code",
   "execution_count": null,
   "metadata": {},
   "outputs": [],
   "source": [
    "#Splitting\n",
    "b=pd.read_csv(r\"D:\\Praxis\\BSFA\\Term2\\bureau_joined.csv\")\n",
    "list_id_b=b.loc[:,'SK_ID_CURR']\n",
    "unique_test_ids=atest.loc[:,'SK_ID_CURR']\n",
    "unique_train_ids=atrain.loc[:,'SK_ID_CURR']\n",
    "b_train_skid=set(list_id_b).intersection(set(unique_train_ids))\n",
    "b_test_skid=set(list_id_b).intersection(set(unique_test_ids))\n",
    "b_test=b[b.SK_ID_CURR.isin(b_test_skid)]\n",
    "b_train=b[b.SK_ID_CURR.isin(b_train_skid)]\n"
   ]
  },
  {
   "cell_type": "code",
   "execution_count": null,
   "metadata": {},
   "outputs": [],
   "source": [
    "#imputing\n",
    "list=[\"DAYS_CREDIT_ENDDATE\",\"AMT_CREDIT_SUM_DEBT\",\"AMT_CREDIT_SUM_LIMIT\",\"AMT_CREDIT_SUM\"]\n",
    "for i in list:\n",
    "    s = df.groupby('CREDIT_ACTIVE')[i].median()\n",
    "    df[i].fillna(df['CREDIT_ACTIVE'].map(s), inplace=True)"
   ]
  },
  {
   "cell_type": "code",
   "execution_count": null,
   "metadata": {},
   "outputs": [],
   "source": [
    "df[\"STATUS\"].fillna(value=-1,inplace=True)\n",
    "df[\"MONTHS_BALANCE\"].fillna(value=df[\"MONTHS_BALANCE\"].notnull().median(),inplace=True)"
   ]
  },
  {
   "cell_type": "code",
   "execution_count": null,
   "metadata": {},
   "outputs": [],
   "source": [
    "df1 = df.drop([\"DAYS_ENDDATE_FACT\",\"AMT_CREDIT_MAX_OVERDUE\",\"AMT_ANNUITY\",\"Unnamed: 0\"], axis=1)"
   ]
  }
 ],
 "metadata": {
  "kernelspec": {
   "display_name": "Python 3",
   "language": "python",
   "name": "python3"
  },
  "language_info": {
   "codemirror_mode": {
    "name": "ipython",
    "version": 3
   },
   "file_extension": ".py",
   "mimetype": "text/x-python",
   "name": "python",
   "nbconvert_exporter": "python",
   "pygments_lexer": "ipython3",
   "version": "3.7.4"
  },
  "varInspector": {
   "cols": {
    "lenName": 16,
    "lenType": 16,
    "lenVar": 40
   },
   "kernels_config": {
    "python": {
     "delete_cmd_postfix": "",
     "delete_cmd_prefix": "del ",
     "library": "var_list.py",
     "varRefreshCmd": "print(var_dic_list())"
    },
    "r": {
     "delete_cmd_postfix": ") ",
     "delete_cmd_prefix": "rm(",
     "library": "var_list.r",
     "varRefreshCmd": "cat(var_dic_list()) "
    }
   },
   "types_to_exclude": [
    "module",
    "function",
    "builtin_function_or_method",
    "instance",
    "_Feature"
   ],
   "window_display": false
  }
 },
 "nbformat": 4,
 "nbformat_minor": 2
}
